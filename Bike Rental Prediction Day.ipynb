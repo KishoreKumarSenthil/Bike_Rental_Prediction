{
 "cells": [
  {
   "cell_type": "markdown",
   "id": "457da67a",
   "metadata": {},
   "source": [
    "# Bike Rental Prediction"
   ]
  },
  {
   "cell_type": "markdown",
   "id": "ac5177b9",
   "metadata": {},
   "source": [
    "## Project Member's Name : \n",
    "  #####  1. Logeshwary Selvaraj \n",
    "  #####  2. Kishore Kumar S \n",
    "  #####  3. Bharath K \n",
    "  #####  4. Nawaz Hussain Z \n",
    "  "
   ]
  },
  {
   "cell_type": "markdown",
   "id": "5a7c805d",
   "metadata": {},
   "source": [
    "# 1. Importing Libraries :"
   ]
  },
  {
   "cell_type": "code",
   "execution_count": 1,
   "id": "95e62819",
   "metadata": {},
   "outputs": [],
   "source": [
    "import numpy as np\n",
    "import pandas as pd\n",
    "import matplotlib.pyplot as plt\n",
    "import seaborn as sns\n",
    "%matplotlib inline\n",
    "import warnings \n",
    "warnings.filterwarnings('ignore')"
   ]
  },
  {
   "cell_type": "markdown",
   "id": "6c31aaef",
   "metadata": {},
   "source": [
    "# 2. Importing And Understanding Our Dataset :"
   ]
  },
  {
   "cell_type": "code",
   "execution_count": 2,
   "id": "94dcacdb",
   "metadata": {},
   "outputs": [
    {
     "data": {
      "text/html": [
       "<div>\n",
       "<style scoped>\n",
       "    .dataframe tbody tr th:only-of-type {\n",
       "        vertical-align: middle;\n",
       "    }\n",
       "\n",
       "    .dataframe tbody tr th {\n",
       "        vertical-align: top;\n",
       "    }\n",
       "\n",
       "    .dataframe thead th {\n",
       "        text-align: right;\n",
       "    }\n",
       "</style>\n",
       "<table border=\"1\" class=\"dataframe\">\n",
       "  <thead>\n",
       "    <tr style=\"text-align: right;\">\n",
       "      <th></th>\n",
       "      <th>instant</th>\n",
       "      <th>dteday</th>\n",
       "      <th>season</th>\n",
       "      <th>yr</th>\n",
       "      <th>mnth</th>\n",
       "      <th>holiday</th>\n",
       "      <th>weekday</th>\n",
       "      <th>workingday</th>\n",
       "      <th>weathersit</th>\n",
       "      <th>temp</th>\n",
       "      <th>atemp</th>\n",
       "      <th>hum</th>\n",
       "      <th>windspeed</th>\n",
       "      <th>casual</th>\n",
       "      <th>registered</th>\n",
       "      <th>cnt</th>\n",
       "    </tr>\n",
       "  </thead>\n",
       "  <tbody>\n",
       "    <tr>\n",
       "      <th>0</th>\n",
       "      <td>1</td>\n",
       "      <td>2011-01-01</td>\n",
       "      <td>1</td>\n",
       "      <td>0</td>\n",
       "      <td>1</td>\n",
       "      <td>0</td>\n",
       "      <td>6</td>\n",
       "      <td>0</td>\n",
       "      <td>2</td>\n",
       "      <td>0.344167</td>\n",
       "      <td>0.363625</td>\n",
       "      <td>0.805833</td>\n",
       "      <td>0.160446</td>\n",
       "      <td>331</td>\n",
       "      <td>654</td>\n",
       "      <td>985</td>\n",
       "    </tr>\n",
       "    <tr>\n",
       "      <th>1</th>\n",
       "      <td>2</td>\n",
       "      <td>2011-01-02</td>\n",
       "      <td>1</td>\n",
       "      <td>0</td>\n",
       "      <td>1</td>\n",
       "      <td>0</td>\n",
       "      <td>0</td>\n",
       "      <td>0</td>\n",
       "      <td>2</td>\n",
       "      <td>0.363478</td>\n",
       "      <td>0.353739</td>\n",
       "      <td>0.696087</td>\n",
       "      <td>0.248539</td>\n",
       "      <td>131</td>\n",
       "      <td>670</td>\n",
       "      <td>801</td>\n",
       "    </tr>\n",
       "    <tr>\n",
       "      <th>2</th>\n",
       "      <td>3</td>\n",
       "      <td>2011-01-03</td>\n",
       "      <td>1</td>\n",
       "      <td>0</td>\n",
       "      <td>1</td>\n",
       "      <td>0</td>\n",
       "      <td>1</td>\n",
       "      <td>1</td>\n",
       "      <td>1</td>\n",
       "      <td>0.196364</td>\n",
       "      <td>0.189405</td>\n",
       "      <td>0.437273</td>\n",
       "      <td>0.248309</td>\n",
       "      <td>120</td>\n",
       "      <td>1229</td>\n",
       "      <td>1349</td>\n",
       "    </tr>\n",
       "    <tr>\n",
       "      <th>3</th>\n",
       "      <td>4</td>\n",
       "      <td>2011-01-04</td>\n",
       "      <td>1</td>\n",
       "      <td>0</td>\n",
       "      <td>1</td>\n",
       "      <td>0</td>\n",
       "      <td>2</td>\n",
       "      <td>1</td>\n",
       "      <td>1</td>\n",
       "      <td>0.200000</td>\n",
       "      <td>0.212122</td>\n",
       "      <td>0.590435</td>\n",
       "      <td>0.160296</td>\n",
       "      <td>108</td>\n",
       "      <td>1454</td>\n",
       "      <td>1562</td>\n",
       "    </tr>\n",
       "    <tr>\n",
       "      <th>4</th>\n",
       "      <td>5</td>\n",
       "      <td>2011-01-05</td>\n",
       "      <td>1</td>\n",
       "      <td>0</td>\n",
       "      <td>1</td>\n",
       "      <td>0</td>\n",
       "      <td>3</td>\n",
       "      <td>1</td>\n",
       "      <td>1</td>\n",
       "      <td>0.226957</td>\n",
       "      <td>0.229270</td>\n",
       "      <td>0.436957</td>\n",
       "      <td>0.186900</td>\n",
       "      <td>82</td>\n",
       "      <td>1518</td>\n",
       "      <td>1600</td>\n",
       "    </tr>\n",
       "  </tbody>\n",
       "</table>\n",
       "</div>"
      ],
      "text/plain": [
       "   instant      dteday  season  yr  mnth  holiday  weekday  workingday  \\\n",
       "0        1  2011-01-01       1   0     1        0        6           0   \n",
       "1        2  2011-01-02       1   0     1        0        0           0   \n",
       "2        3  2011-01-03       1   0     1        0        1           1   \n",
       "3        4  2011-01-04       1   0     1        0        2           1   \n",
       "4        5  2011-01-05       1   0     1        0        3           1   \n",
       "\n",
       "   weathersit      temp     atemp       hum  windspeed  casual  registered  \\\n",
       "0           2  0.344167  0.363625  0.805833   0.160446     331         654   \n",
       "1           2  0.363478  0.353739  0.696087   0.248539     131         670   \n",
       "2           1  0.196364  0.189405  0.437273   0.248309     120        1229   \n",
       "3           1  0.200000  0.212122  0.590435   0.160296     108        1454   \n",
       "4           1  0.226957  0.229270  0.436957   0.186900      82        1518   \n",
       "\n",
       "    cnt  \n",
       "0   985  \n",
       "1   801  \n",
       "2  1349  \n",
       "3  1562  \n",
       "4  1600  "
      ]
     },
     "execution_count": 2,
     "metadata": {},
     "output_type": "execute_result"
    }
   ],
   "source": [
    "df_day = pd.read_csv('day.csv')\n",
    "df_day.head()"
   ]
  },
  {
   "cell_type": "markdown",
   "id": "107eaf1a",
   "metadata": {},
   "source": [
    "### Shape of dataset :"
   ]
  },
  {
   "cell_type": "code",
   "execution_count": 3,
   "id": "0d606791",
   "metadata": {},
   "outputs": [
    {
     "data": {
      "text/plain": [
       "(731, 16)"
      ]
     },
     "execution_count": 3,
     "metadata": {},
     "output_type": "execute_result"
    }
   ],
   "source": [
    "df_day.shape"
   ]
  },
  {
   "cell_type": "markdown",
   "id": "4e617a5f",
   "metadata": {},
   "source": [
    "### Finding the Null Values :"
   ]
  },
  {
   "cell_type": "code",
   "execution_count": 4,
   "id": "e55e49af",
   "metadata": {},
   "outputs": [
    {
     "data": {
      "text/plain": [
       "instant       0\n",
       "dteday        0\n",
       "season        0\n",
       "yr            0\n",
       "mnth          0\n",
       "holiday       0\n",
       "weekday       0\n",
       "workingday    0\n",
       "weathersit    0\n",
       "temp          0\n",
       "atemp         0\n",
       "hum           0\n",
       "windspeed     0\n",
       "casual        0\n",
       "registered    0\n",
       "cnt           0\n",
       "dtype: int64"
      ]
     },
     "execution_count": 4,
     "metadata": {},
     "output_type": "execute_result"
    }
   ],
   "source": [
    "df_day.isnull().sum()"
   ]
  },
  {
   "cell_type": "markdown",
   "id": "48dc01eb",
   "metadata": {},
   "source": [
    "### Check Number of Unique Values for each variable :"
   ]
  },
  {
   "cell_type": "code",
   "execution_count": 5,
   "id": "a5ccc951",
   "metadata": {},
   "outputs": [
    {
     "data": {
      "text/plain": [
       "instant       731\n",
       "dteday        731\n",
       "season          4\n",
       "yr              2\n",
       "mnth           12\n",
       "holiday         2\n",
       "weekday         7\n",
       "workingday      2\n",
       "weathersit      3\n",
       "temp          499\n",
       "atemp         690\n",
       "hum           595\n",
       "windspeed     650\n",
       "casual        606\n",
       "registered    679\n",
       "cnt           696\n",
       "dtype: int64"
      ]
     },
     "execution_count": 5,
     "metadata": {},
     "output_type": "execute_result"
    }
   ],
   "source": [
    "df_day.nunique()"
   ]
  },
  {
   "cell_type": "markdown",
   "id": "6b1f9c7f",
   "metadata": {},
   "source": [
    "## Finding out duplicates :"
   ]
  },
  {
   "cell_type": "code",
   "execution_count": 6,
   "id": "51e7e362",
   "metadata": {},
   "outputs": [
    {
     "data": {
      "text/html": [
       "<div>\n",
       "<style scoped>\n",
       "    .dataframe tbody tr th:only-of-type {\n",
       "        vertical-align: middle;\n",
       "    }\n",
       "\n",
       "    .dataframe tbody tr th {\n",
       "        vertical-align: top;\n",
       "    }\n",
       "\n",
       "    .dataframe thead th {\n",
       "        text-align: right;\n",
       "    }\n",
       "</style>\n",
       "<table border=\"1\" class=\"dataframe\">\n",
       "  <thead>\n",
       "    <tr style=\"text-align: right;\">\n",
       "      <th></th>\n",
       "      <th>instant</th>\n",
       "      <th>dteday</th>\n",
       "      <th>season</th>\n",
       "      <th>yr</th>\n",
       "      <th>mnth</th>\n",
       "      <th>holiday</th>\n",
       "      <th>weekday</th>\n",
       "      <th>workingday</th>\n",
       "      <th>weathersit</th>\n",
       "      <th>temp</th>\n",
       "      <th>atemp</th>\n",
       "      <th>hum</th>\n",
       "      <th>windspeed</th>\n",
       "      <th>casual</th>\n",
       "      <th>registered</th>\n",
       "      <th>cnt</th>\n",
       "    </tr>\n",
       "  </thead>\n",
       "  <tbody>\n",
       "  </tbody>\n",
       "</table>\n",
       "</div>"
      ],
      "text/plain": [
       "Empty DataFrame\n",
       "Columns: [instant, dteday, season, yr, mnth, holiday, weekday, workingday, weathersit, temp, atemp, hum, windspeed, casual, registered, cnt]\n",
       "Index: []"
      ]
     },
     "execution_count": 6,
     "metadata": {},
     "output_type": "execute_result"
    }
   ],
   "source": [
    "df_day.loc[df_day.duplicated()]"
   ]
  },
  {
   "cell_type": "markdown",
   "id": "25cf48c3",
   "metadata": {},
   "source": [
    "## Renaming the features to a proper name for better understanding :"
   ]
  },
  {
   "cell_type": "code",
   "execution_count": 7,
   "id": "ad310c9b",
   "metadata": {},
   "outputs": [
    {
     "data": {
      "text/html": [
       "<div>\n",
       "<style scoped>\n",
       "    .dataframe tbody tr th:only-of-type {\n",
       "        vertical-align: middle;\n",
       "    }\n",
       "\n",
       "    .dataframe tbody tr th {\n",
       "        vertical-align: top;\n",
       "    }\n",
       "\n",
       "    .dataframe thead th {\n",
       "        text-align: right;\n",
       "    }\n",
       "</style>\n",
       "<table border=\"1\" class=\"dataframe\">\n",
       "  <thead>\n",
       "    <tr style=\"text-align: right;\">\n",
       "      <th></th>\n",
       "      <th>instant</th>\n",
       "      <th>dteday</th>\n",
       "      <th>season</th>\n",
       "      <th>year</th>\n",
       "      <th>month</th>\n",
       "      <th>holiday</th>\n",
       "      <th>weekday</th>\n",
       "      <th>workingday</th>\n",
       "      <th>weather</th>\n",
       "      <th>temp</th>\n",
       "      <th>atemp</th>\n",
       "      <th>humidity</th>\n",
       "      <th>windspeed</th>\n",
       "      <th>casual</th>\n",
       "      <th>registered</th>\n",
       "      <th>count</th>\n",
       "    </tr>\n",
       "  </thead>\n",
       "  <tbody>\n",
       "    <tr>\n",
       "      <th>0</th>\n",
       "      <td>1</td>\n",
       "      <td>2011-01-01</td>\n",
       "      <td>1</td>\n",
       "      <td>0</td>\n",
       "      <td>1</td>\n",
       "      <td>0</td>\n",
       "      <td>6</td>\n",
       "      <td>0</td>\n",
       "      <td>2</td>\n",
       "      <td>0.344167</td>\n",
       "      <td>0.363625</td>\n",
       "      <td>0.805833</td>\n",
       "      <td>0.160446</td>\n",
       "      <td>331</td>\n",
       "      <td>654</td>\n",
       "      <td>985</td>\n",
       "    </tr>\n",
       "    <tr>\n",
       "      <th>1</th>\n",
       "      <td>2</td>\n",
       "      <td>2011-01-02</td>\n",
       "      <td>1</td>\n",
       "      <td>0</td>\n",
       "      <td>1</td>\n",
       "      <td>0</td>\n",
       "      <td>0</td>\n",
       "      <td>0</td>\n",
       "      <td>2</td>\n",
       "      <td>0.363478</td>\n",
       "      <td>0.353739</td>\n",
       "      <td>0.696087</td>\n",
       "      <td>0.248539</td>\n",
       "      <td>131</td>\n",
       "      <td>670</td>\n",
       "      <td>801</td>\n",
       "    </tr>\n",
       "    <tr>\n",
       "      <th>2</th>\n",
       "      <td>3</td>\n",
       "      <td>2011-01-03</td>\n",
       "      <td>1</td>\n",
       "      <td>0</td>\n",
       "      <td>1</td>\n",
       "      <td>0</td>\n",
       "      <td>1</td>\n",
       "      <td>1</td>\n",
       "      <td>1</td>\n",
       "      <td>0.196364</td>\n",
       "      <td>0.189405</td>\n",
       "      <td>0.437273</td>\n",
       "      <td>0.248309</td>\n",
       "      <td>120</td>\n",
       "      <td>1229</td>\n",
       "      <td>1349</td>\n",
       "    </tr>\n",
       "    <tr>\n",
       "      <th>3</th>\n",
       "      <td>4</td>\n",
       "      <td>2011-01-04</td>\n",
       "      <td>1</td>\n",
       "      <td>0</td>\n",
       "      <td>1</td>\n",
       "      <td>0</td>\n",
       "      <td>2</td>\n",
       "      <td>1</td>\n",
       "      <td>1</td>\n",
       "      <td>0.200000</td>\n",
       "      <td>0.212122</td>\n",
       "      <td>0.590435</td>\n",
       "      <td>0.160296</td>\n",
       "      <td>108</td>\n",
       "      <td>1454</td>\n",
       "      <td>1562</td>\n",
       "    </tr>\n",
       "    <tr>\n",
       "      <th>4</th>\n",
       "      <td>5</td>\n",
       "      <td>2011-01-05</td>\n",
       "      <td>1</td>\n",
       "      <td>0</td>\n",
       "      <td>1</td>\n",
       "      <td>0</td>\n",
       "      <td>3</td>\n",
       "      <td>1</td>\n",
       "      <td>1</td>\n",
       "      <td>0.226957</td>\n",
       "      <td>0.229270</td>\n",
       "      <td>0.436957</td>\n",
       "      <td>0.186900</td>\n",
       "      <td>82</td>\n",
       "      <td>1518</td>\n",
       "      <td>1600</td>\n",
       "    </tr>\n",
       "  </tbody>\n",
       "</table>\n",
       "</div>"
      ],
      "text/plain": [
       "   instant      dteday  season  year  month  holiday  weekday  workingday  \\\n",
       "0        1  2011-01-01       1     0      1        0        6           0   \n",
       "1        2  2011-01-02       1     0      1        0        0           0   \n",
       "2        3  2011-01-03       1     0      1        0        1           1   \n",
       "3        4  2011-01-04       1     0      1        0        2           1   \n",
       "4        5  2011-01-05       1     0      1        0        3           1   \n",
       "\n",
       "   weather      temp     atemp  humidity  windspeed  casual  registered  count  \n",
       "0        2  0.344167  0.363625  0.805833   0.160446     331         654    985  \n",
       "1        2  0.363478  0.353739  0.696087   0.248539     131         670    801  \n",
       "2        1  0.196364  0.189405  0.437273   0.248309     120        1229   1349  \n",
       "3        1  0.200000  0.212122  0.590435   0.160296     108        1454   1562  \n",
       "4        1  0.226957  0.229270  0.436957   0.186900      82        1518   1600  "
      ]
     },
     "execution_count": 7,
     "metadata": {},
     "output_type": "execute_result"
    }
   ],
   "source": [
    "df = df_day.rename(columns = {'weathersit':'weather',\n",
    "                              'yr':'year',\n",
    "                              'mnth':'month',\n",
    "                              'hr':'hour',\n",
    "                              'hum':'humidity',\n",
    "                              'cnt':'count' }) \n",
    "df.head(5)"
   ]
  },
  {
   "cell_type": "code",
   "execution_count": 8,
   "id": "d333c418",
   "metadata": {},
   "outputs": [],
   "source": [
    "df = df.drop(columns=['instant','dteday','year'])"
   ]
  },
  {
   "cell_type": "code",
   "execution_count": 9,
   "id": "23978f92",
   "metadata": {},
   "outputs": [
    {
     "data": {
      "text/html": [
       "<div>\n",
       "<style scoped>\n",
       "    .dataframe tbody tr th:only-of-type {\n",
       "        vertical-align: middle;\n",
       "    }\n",
       "\n",
       "    .dataframe tbody tr th {\n",
       "        vertical-align: top;\n",
       "    }\n",
       "\n",
       "    .dataframe thead th {\n",
       "        text-align: right;\n",
       "    }\n",
       "</style>\n",
       "<table border=\"1\" class=\"dataframe\">\n",
       "  <thead>\n",
       "    <tr style=\"text-align: right;\">\n",
       "      <th></th>\n",
       "      <th>season</th>\n",
       "      <th>month</th>\n",
       "      <th>holiday</th>\n",
       "      <th>weekday</th>\n",
       "      <th>workingday</th>\n",
       "      <th>weather</th>\n",
       "      <th>temp</th>\n",
       "      <th>atemp</th>\n",
       "      <th>humidity</th>\n",
       "      <th>windspeed</th>\n",
       "      <th>casual</th>\n",
       "      <th>registered</th>\n",
       "      <th>count</th>\n",
       "    </tr>\n",
       "  </thead>\n",
       "  <tbody>\n",
       "    <tr>\n",
       "      <th>0</th>\n",
       "      <td>1</td>\n",
       "      <td>1</td>\n",
       "      <td>0</td>\n",
       "      <td>6</td>\n",
       "      <td>0</td>\n",
       "      <td>2</td>\n",
       "      <td>0.344167</td>\n",
       "      <td>0.363625</td>\n",
       "      <td>0.805833</td>\n",
       "      <td>0.160446</td>\n",
       "      <td>331</td>\n",
       "      <td>654</td>\n",
       "      <td>985</td>\n",
       "    </tr>\n",
       "    <tr>\n",
       "      <th>1</th>\n",
       "      <td>1</td>\n",
       "      <td>1</td>\n",
       "      <td>0</td>\n",
       "      <td>0</td>\n",
       "      <td>0</td>\n",
       "      <td>2</td>\n",
       "      <td>0.363478</td>\n",
       "      <td>0.353739</td>\n",
       "      <td>0.696087</td>\n",
       "      <td>0.248539</td>\n",
       "      <td>131</td>\n",
       "      <td>670</td>\n",
       "      <td>801</td>\n",
       "    </tr>\n",
       "    <tr>\n",
       "      <th>2</th>\n",
       "      <td>1</td>\n",
       "      <td>1</td>\n",
       "      <td>0</td>\n",
       "      <td>1</td>\n",
       "      <td>1</td>\n",
       "      <td>1</td>\n",
       "      <td>0.196364</td>\n",
       "      <td>0.189405</td>\n",
       "      <td>0.437273</td>\n",
       "      <td>0.248309</td>\n",
       "      <td>120</td>\n",
       "      <td>1229</td>\n",
       "      <td>1349</td>\n",
       "    </tr>\n",
       "    <tr>\n",
       "      <th>3</th>\n",
       "      <td>1</td>\n",
       "      <td>1</td>\n",
       "      <td>0</td>\n",
       "      <td>2</td>\n",
       "      <td>1</td>\n",
       "      <td>1</td>\n",
       "      <td>0.200000</td>\n",
       "      <td>0.212122</td>\n",
       "      <td>0.590435</td>\n",
       "      <td>0.160296</td>\n",
       "      <td>108</td>\n",
       "      <td>1454</td>\n",
       "      <td>1562</td>\n",
       "    </tr>\n",
       "    <tr>\n",
       "      <th>4</th>\n",
       "      <td>1</td>\n",
       "      <td>1</td>\n",
       "      <td>0</td>\n",
       "      <td>3</td>\n",
       "      <td>1</td>\n",
       "      <td>1</td>\n",
       "      <td>0.226957</td>\n",
       "      <td>0.229270</td>\n",
       "      <td>0.436957</td>\n",
       "      <td>0.186900</td>\n",
       "      <td>82</td>\n",
       "      <td>1518</td>\n",
       "      <td>1600</td>\n",
       "    </tr>\n",
       "  </tbody>\n",
       "</table>\n",
       "</div>"
      ],
      "text/plain": [
       "   season  month  holiday  weekday  workingday  weather      temp     atemp  \\\n",
       "0       1      1        0        6           0        2  0.344167  0.363625   \n",
       "1       1      1        0        0           0        2  0.363478  0.353739   \n",
       "2       1      1        0        1           1        1  0.196364  0.189405   \n",
       "3       1      1        0        2           1        1  0.200000  0.212122   \n",
       "4       1      1        0        3           1        1  0.226957  0.229270   \n",
       "\n",
       "   humidity  windspeed  casual  registered  count  \n",
       "0  0.805833   0.160446     331         654    985  \n",
       "1  0.696087   0.248539     131         670    801  \n",
       "2  0.437273   0.248309     120        1229   1349  \n",
       "3  0.590435   0.160296     108        1454   1562  \n",
       "4  0.436957   0.186900      82        1518   1600  "
      ]
     },
     "execution_count": 9,
     "metadata": {},
     "output_type": "execute_result"
    }
   ],
   "source": [
    "df.head(5)"
   ]
  },
  {
   "cell_type": "markdown",
   "id": "b4b66e24",
   "metadata": {},
   "source": [
    "# 3. Exploratory Data Analysis (EDA)"
   ]
  },
  {
   "cell_type": "markdown",
   "id": "521c9294",
   "metadata": {},
   "source": [
    "### ~ Count of bikes during different months :"
   ]
  },
  {
   "cell_type": "code",
   "execution_count": 10,
   "id": "20d40703",
   "metadata": {},
   "outputs": [
    {
     "data": {
      "image/png": "[encoded data removed]",
      "text/plain": [
       "<Figure size 2000x1000 with 1 Axes>"
      ]
     },
     "metadata": {},
     "output_type": "display_data"
    }
   ],
   "source": [
    "fig, ax = plt.subplots(figsize=(20,10))\n",
    "sns.barplot(data=df, x='month', y='count', ax=ax)\n",
    "ax.set(title='Count of bikes during different months')\n",
    "plt.show()"
   ]
  },
  {
   "cell_type": "raw",
   "id": "f7d94bb7",
   "metadata": {},
   "source": [
    "NOTE : \n",
    "~ From the above plot, during the month of January, February and December the users  of hiring bikes are likely to be less.\n",
    "\n",
    "~ From march the hike starts and ends at the month of November.\n",
    "\n",
    "~ The understanding of the above plot, during autumn, spring, monsoon and summer the users more likely to hire bikes and during winter the count are getting low.\n"
   ]
  },
  {
   "cell_type": "markdown",
   "id": "2dcd9bea",
   "metadata": {},
   "source": [
    "### ~ Count of bikes during different days :"
   ]
  },
  {
   "cell_type": "code",
   "execution_count": 11,
   "id": "28130f8a",
   "metadata": {},
   "outputs": [
    {
     "data": {
      "image/png": "[encoded data removed]",
      "text/plain": [
       "<Figure size 2000x1000 with 1 Axes>"
      ]
     },
     "metadata": {},
     "output_type": "display_data"
    }
   ],
   "source": [
    "fig, ax = plt.subplots(figsize=(20,10))\n",
    "sns.barplot(data=df, x='weekday', y='count', ax=ax)\n",
    "ax.set(title='Count of bikes during different days')\n",
    "plt.show()"
   ]
  },
  {
   "cell_type": "raw",
   "id": "9efe84bf",
   "metadata": {},
   "source": [
    " NOTE : In the above bar plot, the average count lies between 175 to 180. Almost every day has the same average."
   ]
  },
  {
   "cell_type": "markdown",
   "id": "42826679",
   "metadata": {},
   "source": [
    "### ~ Relation between temperature and users :"
   ]
  },
  {
   "cell_type": "code",
   "execution_count": 12,
   "id": "6c56f4ef",
   "metadata": {},
   "outputs": [
    {
     "data": {
      "image/png": "[encoded data removed]",
      "text/plain": [
       "<Figure size 800x500 with 1 Axes>"
      ]
     },
     "metadata": {},
     "output_type": "display_data"
    }
   ],
   "source": [
    "fig, ax = plt.subplots(figsize=(8,5))\n",
    "sns.regplot(x=df['temp'], y=df['count'],ax=ax)\n",
    "ax.set(title=\"Relation between temperature and users\")\n",
    "plt.show()"
   ]
  },
  {
   "cell_type": "raw",
   "id": "8653f554",
   "metadata": {},
   "source": [
    "NOTE :  When the temperature increases number of users increases."
   ]
  },
  {
   "cell_type": "markdown",
   "id": "94420572",
   "metadata": {},
   "source": [
    "### ~ Relation between humidity and users :"
   ]
  },
  {
   "cell_type": "code",
   "execution_count": 13,
   "id": "a436d769",
   "metadata": {},
   "outputs": [
    {
     "data": {
      "image/png": "[encoded data removed]",
      "text/plain": [
       "<Figure size 800x500 with 1 Axes>"
      ]
     },
     "metadata": {},
     "output_type": "display_data"
    }
   ],
   "source": [
    "fig, ax = plt.subplots(figsize=(8,5))\n",
    "sns.regplot(x=df['humidity'], y=df['count'], ax=ax )\n",
    "ax.set(title=\"Relation between humidity and users\")\n",
    "plt.show()"
   ]
  },
  {
   "cell_type": "raw",
   "id": "961ebc16",
   "metadata": {},
   "source": [
    "NOTE : When the humidity increases number of users decreases. "
   ]
  },
  {
   "cell_type": "markdown",
   "id": "86851724",
   "metadata": {},
   "source": [
    "## Coorelation Matrix :"
   ]
  },
  {
   "cell_type": "code",
   "execution_count": 14,
   "id": "39f58d35",
   "metadata": {},
   "outputs": [
    {
     "data": {
      "image/png": "[encoded data removed]",
      "text/plain": [
       "<Figure size 1000x800 with 2 Axes>"
      ]
     },
     "metadata": {},
     "output_type": "display_data"
    }
   ],
   "source": [
    "corr = df.corr()\n",
    "plt.figure(figsize=(10,8))\n",
    "sns.heatmap(corr,cmap=sns.cubehelix_palette(as_cmap=True), annot=True, annot_kws={'size':8})\n",
    "plt.show()"
   ]
  },
  {
   "cell_type": "markdown",
   "id": "ceb4defb",
   "metadata": {},
   "source": [
    "##### Lets check outliers in any :"
   ]
  },
  {
   "cell_type": "code",
   "execution_count": 15,
   "id": "be7cc0ab",
   "metadata": {},
   "outputs": [
    {
     "data": {
      "image/png": "[encoded data removed]",
      "text/plain": [
       "<Figure size 2000x2000 with 13 Axes>"
      ]
     },
     "metadata": {},
     "output_type": "display_data"
    }
   ],
   "source": [
    "plt.figure(figsize=(20,20), facecolor='white')\n",
    "plotnumber = 1\n",
    "\n",
    "for column in df:\n",
    "    if plotnumber<=16 :  \n",
    "        ax = plt.subplot(4,4,plotnumber)\n",
    "        sns.boxplot(df[column])\n",
    "        plt.xlabel(column,fontsize=20)\n",
    "    plotnumber+=1\n",
    "plt.show()"
   ]
  },
  {
   "cell_type": "raw",
   "id": "0d17ab56",
   "metadata": {},
   "source": [
    "NOTE : \n",
    "1. Windspeed, casual, registered, count have outliers more than 5%, so for these features no outlier treatment is required.\n",
    "2. Holiday, Humidity required outlier treatment."
   ]
  },
  {
   "cell_type": "markdown",
   "id": "462dd6c2",
   "metadata": {},
   "source": [
    "## Finding Outliers Using Z-Score :"
   ]
  },
  {
   "cell_type": "markdown",
   "id": "cbc33572",
   "metadata": {},
   "source": [
    "##### We will be taking the values inside the range of -3 to +3 standard deviation"
   ]
  },
  {
   "cell_type": "markdown",
   "id": "8ac4d50e",
   "metadata": {},
   "source": [
    "### ~ Finding out the Limits for humidity :"
   ]
  },
  {
   "cell_type": "code",
   "execution_count": 16,
   "id": "f35bac64",
   "metadata": {},
   "outputs": [
    {
     "name": "stdout",
     "output_type": "stream",
     "text": [
      "1.0551813483425585\n",
      "0.2006067775124349\n"
     ]
    }
   ],
   "source": [
    "upper_limit = df['humidity'].mean()+3*df['humidity'].std()\n",
    "lower_limit = df['humidity'].mean()-3*df['humidity'].std()\n",
    "print(upper_limit)\n",
    "print(lower_limit)"
   ]
  },
  {
   "cell_type": "code",
   "execution_count": 17,
   "id": "3ae10e4b",
   "metadata": {},
   "outputs": [
    {
     "data": {
      "text/html": [
       "<div>\n",
       "<style scoped>\n",
       "    .dataframe tbody tr th:only-of-type {\n",
       "        vertical-align: middle;\n",
       "    }\n",
       "\n",
       "    .dataframe tbody tr th {\n",
       "        vertical-align: top;\n",
       "    }\n",
       "\n",
       "    .dataframe thead th {\n",
       "        text-align: right;\n",
       "    }\n",
       "</style>\n",
       "<table border=\"1\" class=\"dataframe\">\n",
       "  <thead>\n",
       "    <tr style=\"text-align: right;\">\n",
       "      <th></th>\n",
       "      <th>season</th>\n",
       "      <th>month</th>\n",
       "      <th>holiday</th>\n",
       "      <th>weekday</th>\n",
       "      <th>workingday</th>\n",
       "      <th>weather</th>\n",
       "      <th>temp</th>\n",
       "      <th>atemp</th>\n",
       "      <th>humidity</th>\n",
       "      <th>windspeed</th>\n",
       "      <th>casual</th>\n",
       "      <th>registered</th>\n",
       "      <th>count</th>\n",
       "    </tr>\n",
       "  </thead>\n",
       "  <tbody>\n",
       "    <tr>\n",
       "      <th>49</th>\n",
       "      <td>1</td>\n",
       "      <td>2</td>\n",
       "      <td>0</td>\n",
       "      <td>6</td>\n",
       "      <td>0</td>\n",
       "      <td>1</td>\n",
       "      <td>0.399167</td>\n",
       "      <td>0.391404</td>\n",
       "      <td>0.187917</td>\n",
       "      <td>0.507463</td>\n",
       "      <td>532</td>\n",
       "      <td>1103</td>\n",
       "      <td>1635</td>\n",
       "    </tr>\n",
       "    <tr>\n",
       "      <th>68</th>\n",
       "      <td>1</td>\n",
       "      <td>3</td>\n",
       "      <td>0</td>\n",
       "      <td>4</td>\n",
       "      <td>1</td>\n",
       "      <td>3</td>\n",
       "      <td>0.389091</td>\n",
       "      <td>0.385668</td>\n",
       "      <td>0.000000</td>\n",
       "      <td>0.261877</td>\n",
       "      <td>46</td>\n",
       "      <td>577</td>\n",
       "      <td>623</td>\n",
       "    </tr>\n",
       "  </tbody>\n",
       "</table>\n",
       "</div>"
      ],
      "text/plain": [
       "    season  month  holiday  weekday  workingday  weather      temp     atemp  \\\n",
       "49       1      2        0        6           0        1  0.399167  0.391404   \n",
       "68       1      3        0        4           1        3  0.389091  0.385668   \n",
       "\n",
       "    humidity  windspeed  casual  registered  count  \n",
       "49  0.187917   0.507463     532        1103   1635  \n",
       "68  0.000000   0.261877      46         577    623  "
      ]
     },
     "execution_count": 17,
     "metadata": {},
     "output_type": "execute_result"
    }
   ],
   "source": [
    "df.loc[(df['humidity']>upper_limit) | (df['humidity']<lower_limit)]"
   ]
  },
  {
   "cell_type": "markdown",
   "id": "c775c6ec",
   "metadata": {},
   "source": [
    "### ~ Handling the outliers in humidity :"
   ]
  },
  {
   "cell_type": "markdown",
   "id": "54820332",
   "metadata": {},
   "source": [
    "##### Replacing the oulier values to humidity's median :"
   ]
  },
  {
   "cell_type": "code",
   "execution_count": 18,
   "id": "14cad30d",
   "metadata": {},
   "outputs": [],
   "source": [
    "df.loc[(df['humidity']>upper_limit) | (df['humidity']<lower_limit),'humidity']=df['humidity'].median()"
   ]
  },
  {
   "cell_type": "markdown",
   "id": "6eab0ef1",
   "metadata": {},
   "source": [
    "### ~ Finding out the Limits for windspeed :"
   ]
  },
  {
   "cell_type": "code",
   "execution_count": 19,
   "id": "dc8e6b08",
   "metadata": {},
   "outputs": [
    {
     "name": "stdout",
     "output_type": "stream",
     "text": [
      "0.4229798236729153\n",
      "-0.0420074004171013\n"
     ]
    }
   ],
   "source": [
    "upper_limit = df['windspeed'].mean()+3*df['windspeed'].std()\n",
    "lower_limit = df['windspeed'].mean()-3*df['windspeed'].std()\n",
    "print(upper_limit)\n",
    "print(lower_limit)"
   ]
  },
  {
   "cell_type": "code",
   "execution_count": 20,
   "id": "be8a86ef",
   "metadata": {},
   "outputs": [
    {
     "data": {
      "text/html": [
       "<div>\n",
       "<style scoped>\n",
       "    .dataframe tbody tr th:only-of-type {\n",
       "        vertical-align: middle;\n",
       "    }\n",
       "\n",
       "    .dataframe tbody tr th {\n",
       "        vertical-align: top;\n",
       "    }\n",
       "\n",
       "    .dataframe thead th {\n",
       "        text-align: right;\n",
       "    }\n",
       "</style>\n",
       "<table border=\"1\" class=\"dataframe\">\n",
       "  <thead>\n",
       "    <tr style=\"text-align: right;\">\n",
       "      <th></th>\n",
       "      <th>season</th>\n",
       "      <th>month</th>\n",
       "      <th>holiday</th>\n",
       "      <th>weekday</th>\n",
       "      <th>workingday</th>\n",
       "      <th>weather</th>\n",
       "      <th>temp</th>\n",
       "      <th>atemp</th>\n",
       "      <th>humidity</th>\n",
       "      <th>windspeed</th>\n",
       "      <th>casual</th>\n",
       "      <th>registered</th>\n",
       "      <th>count</th>\n",
       "    </tr>\n",
       "  </thead>\n",
       "  <tbody>\n",
       "    <tr>\n",
       "      <th>49</th>\n",
       "      <td>1</td>\n",
       "      <td>2</td>\n",
       "      <td>0</td>\n",
       "      <td>6</td>\n",
       "      <td>0</td>\n",
       "      <td>1</td>\n",
       "      <td>0.399167</td>\n",
       "      <td>0.391404</td>\n",
       "      <td>0.626667</td>\n",
       "      <td>0.507463</td>\n",
       "      <td>532</td>\n",
       "      <td>1103</td>\n",
       "      <td>1635</td>\n",
       "    </tr>\n",
       "    <tr>\n",
       "      <th>432</th>\n",
       "      <td>1</td>\n",
       "      <td>3</td>\n",
       "      <td>0</td>\n",
       "      <td>4</td>\n",
       "      <td>1</td>\n",
       "      <td>1</td>\n",
       "      <td>0.527500</td>\n",
       "      <td>0.524604</td>\n",
       "      <td>0.567500</td>\n",
       "      <td>0.441563</td>\n",
       "      <td>486</td>\n",
       "      <td>4896</td>\n",
       "      <td>5382</td>\n",
       "    </tr>\n",
       "  </tbody>\n",
       "</table>\n",
       "</div>"
      ],
      "text/plain": [
       "     season  month  holiday  weekday  workingday  weather      temp     atemp  \\\n",
       "49        1      2        0        6           0        1  0.399167  0.391404   \n",
       "432       1      3        0        4           1        1  0.527500  0.524604   \n",
       "\n",
       "     humidity  windspeed  casual  registered  count  \n",
       "49   0.626667   0.507463     532        1103   1635  \n",
       "432  0.567500   0.441563     486        4896   5382  "
      ]
     },
     "execution_count": 20,
     "metadata": {},
     "output_type": "execute_result"
    }
   ],
   "source": [
    "df.loc[(df['windspeed']>upper_limit) | (df['windspeed']<lower_limit)]"
   ]
  },
  {
   "cell_type": "markdown",
   "id": "d9dc83cf",
   "metadata": {},
   "source": [
    "### ~ Handling the outliers in windspeed :"
   ]
  },
  {
   "cell_type": "markdown",
   "id": "889e1254",
   "metadata": {},
   "source": [
    "##### Replacing the oulier values to windspeed's median :"
   ]
  },
  {
   "cell_type": "code",
   "execution_count": 21,
   "id": "cc84a778",
   "metadata": {},
   "outputs": [],
   "source": [
    "df.loc[(df['windspeed']>upper_limit) | (df['windspeed']<lower_limit),'windspeed']=df['windspeed'].median()"
   ]
  },
  {
   "cell_type": "markdown",
   "id": "54f15c47",
   "metadata": {},
   "source": [
    "### ~ Finding out the Limits for holiday :"
   ]
  },
  {
   "cell_type": "code",
   "execution_count": 22,
   "id": "9d9d3a9d",
   "metadata": {},
   "outputs": [
    {
     "name": "stdout",
     "output_type": "stream",
     "text": [
      "0.5301919980452603\n",
      "-0.47273645768958317\n"
     ]
    }
   ],
   "source": [
    "upper_limit = df['holiday'].mean()+3*df['holiday'].std()\n",
    "lower_limit = df['holiday'].mean()-3*df['holiday'].std()\n",
    "print(upper_limit)\n",
    "print(lower_limit)"
   ]
  },
  {
   "cell_type": "code",
   "execution_count": 23,
   "id": "c06df3b1",
   "metadata": {},
   "outputs": [
    {
     "data": {
      "text/html": [
       "<div>\n",
       "<style scoped>\n",
       "    .dataframe tbody tr th:only-of-type {\n",
       "        vertical-align: middle;\n",
       "    }\n",
       "\n",
       "    .dataframe tbody tr th {\n",
       "        vertical-align: top;\n",
       "    }\n",
       "\n",
       "    .dataframe thead th {\n",
       "        text-align: right;\n",
       "    }\n",
       "</style>\n",
       "<table border=\"1\" class=\"dataframe\">\n",
       "  <thead>\n",
       "    <tr style=\"text-align: right;\">\n",
       "      <th></th>\n",
       "      <th>season</th>\n",
       "      <th>month</th>\n",
       "      <th>holiday</th>\n",
       "      <th>weekday</th>\n",
       "      <th>workingday</th>\n",
       "      <th>weather</th>\n",
       "      <th>temp</th>\n",
       "      <th>atemp</th>\n",
       "      <th>humidity</th>\n",
       "      <th>windspeed</th>\n",
       "      <th>casual</th>\n",
       "      <th>registered</th>\n",
       "      <th>count</th>\n",
       "    </tr>\n",
       "  </thead>\n",
       "  <tbody>\n",
       "    <tr>\n",
       "      <th>16</th>\n",
       "      <td>1</td>\n",
       "      <td>1</td>\n",
       "      <td>1</td>\n",
       "      <td>1</td>\n",
       "      <td>0</td>\n",
       "      <td>2</td>\n",
       "      <td>0.175833</td>\n",
       "      <td>0.176771</td>\n",
       "      <td>0.537500</td>\n",
       "      <td>0.194017</td>\n",
       "      <td>117</td>\n",
       "      <td>883</td>\n",
       "      <td>1000</td>\n",
       "    </tr>\n",
       "    <tr>\n",
       "      <th>51</th>\n",
       "      <td>1</td>\n",
       "      <td>2</td>\n",
       "      <td>1</td>\n",
       "      <td>1</td>\n",
       "      <td>0</td>\n",
       "      <td>2</td>\n",
       "      <td>0.303333</td>\n",
       "      <td>0.284075</td>\n",
       "      <td>0.605000</td>\n",
       "      <td>0.307846</td>\n",
       "      <td>195</td>\n",
       "      <td>912</td>\n",
       "      <td>1107</td>\n",
       "    </tr>\n",
       "    <tr>\n",
       "      <th>104</th>\n",
       "      <td>2</td>\n",
       "      <td>4</td>\n",
       "      <td>1</td>\n",
       "      <td>5</td>\n",
       "      <td>0</td>\n",
       "      <td>1</td>\n",
       "      <td>0.446667</td>\n",
       "      <td>0.441913</td>\n",
       "      <td>0.671250</td>\n",
       "      <td>0.226375</td>\n",
       "      <td>642</td>\n",
       "      <td>2484</td>\n",
       "      <td>3126</td>\n",
       "    </tr>\n",
       "    <tr>\n",
       "      <th>149</th>\n",
       "      <td>2</td>\n",
       "      <td>5</td>\n",
       "      <td>1</td>\n",
       "      <td>1</td>\n",
       "      <td>0</td>\n",
       "      <td>1</td>\n",
       "      <td>0.733333</td>\n",
       "      <td>0.671092</td>\n",
       "      <td>0.685000</td>\n",
       "      <td>0.131225</td>\n",
       "      <td>1549</td>\n",
       "      <td>2549</td>\n",
       "      <td>4098</td>\n",
       "    </tr>\n",
       "    <tr>\n",
       "      <th>184</th>\n",
       "      <td>3</td>\n",
       "      <td>7</td>\n",
       "      <td>1</td>\n",
       "      <td>1</td>\n",
       "      <td>0</td>\n",
       "      <td>2</td>\n",
       "      <td>0.726667</td>\n",
       "      <td>0.665417</td>\n",
       "      <td>0.637917</td>\n",
       "      <td>0.081479</td>\n",
       "      <td>3065</td>\n",
       "      <td>2978</td>\n",
       "      <td>6043</td>\n",
       "    </tr>\n",
       "    <tr>\n",
       "      <th>247</th>\n",
       "      <td>3</td>\n",
       "      <td>9</td>\n",
       "      <td>1</td>\n",
       "      <td>1</td>\n",
       "      <td>0</td>\n",
       "      <td>2</td>\n",
       "      <td>0.673333</td>\n",
       "      <td>0.625646</td>\n",
       "      <td>0.790417</td>\n",
       "      <td>0.212696</td>\n",
       "      <td>1236</td>\n",
       "      <td>2115</td>\n",
       "      <td>3351</td>\n",
       "    </tr>\n",
       "    <tr>\n",
       "      <th>282</th>\n",
       "      <td>4</td>\n",
       "      <td>10</td>\n",
       "      <td>1</td>\n",
       "      <td>1</td>\n",
       "      <td>0</td>\n",
       "      <td>1</td>\n",
       "      <td>0.570833</td>\n",
       "      <td>0.542925</td>\n",
       "      <td>0.733750</td>\n",
       "      <td>0.042304</td>\n",
       "      <td>1514</td>\n",
       "      <td>3603</td>\n",
       "      <td>5117</td>\n",
       "    </tr>\n",
       "    <tr>\n",
       "      <th>314</th>\n",
       "      <td>4</td>\n",
       "      <td>11</td>\n",
       "      <td>1</td>\n",
       "      <td>5</td>\n",
       "      <td>0</td>\n",
       "      <td>1</td>\n",
       "      <td>0.324167</td>\n",
       "      <td>0.306817</td>\n",
       "      <td>0.446250</td>\n",
       "      <td>0.314675</td>\n",
       "      <td>440</td>\n",
       "      <td>2928</td>\n",
       "      <td>3368</td>\n",
       "    </tr>\n",
       "    <tr>\n",
       "      <th>327</th>\n",
       "      <td>4</td>\n",
       "      <td>11</td>\n",
       "      <td>1</td>\n",
       "      <td>4</td>\n",
       "      <td>0</td>\n",
       "      <td>1</td>\n",
       "      <td>0.373333</td>\n",
       "      <td>0.372471</td>\n",
       "      <td>0.549167</td>\n",
       "      <td>0.167304</td>\n",
       "      <td>560</td>\n",
       "      <td>935</td>\n",
       "      <td>1495</td>\n",
       "    </tr>\n",
       "    <tr>\n",
       "      <th>359</th>\n",
       "      <td>1</td>\n",
       "      <td>12</td>\n",
       "      <td>1</td>\n",
       "      <td>1</td>\n",
       "      <td>0</td>\n",
       "      <td>1</td>\n",
       "      <td>0.321739</td>\n",
       "      <td>0.315535</td>\n",
       "      <td>0.506957</td>\n",
       "      <td>0.239465</td>\n",
       "      <td>430</td>\n",
       "      <td>887</td>\n",
       "      <td>1317</td>\n",
       "    </tr>\n",
       "    <tr>\n",
       "      <th>366</th>\n",
       "      <td>1</td>\n",
       "      <td>1</td>\n",
       "      <td>1</td>\n",
       "      <td>1</td>\n",
       "      <td>0</td>\n",
       "      <td>1</td>\n",
       "      <td>0.273043</td>\n",
       "      <td>0.252304</td>\n",
       "      <td>0.381304</td>\n",
       "      <td>0.329665</td>\n",
       "      <td>244</td>\n",
       "      <td>1707</td>\n",
       "      <td>1951</td>\n",
       "    </tr>\n",
       "    <tr>\n",
       "      <th>380</th>\n",
       "      <td>1</td>\n",
       "      <td>1</td>\n",
       "      <td>1</td>\n",
       "      <td>1</td>\n",
       "      <td>0</td>\n",
       "      <td>1</td>\n",
       "      <td>0.190000</td>\n",
       "      <td>0.190663</td>\n",
       "      <td>0.522500</td>\n",
       "      <td>0.231358</td>\n",
       "      <td>217</td>\n",
       "      <td>2081</td>\n",
       "      <td>2298</td>\n",
       "    </tr>\n",
       "    <tr>\n",
       "      <th>415</th>\n",
       "      <td>1</td>\n",
       "      <td>2</td>\n",
       "      <td>1</td>\n",
       "      <td>1</td>\n",
       "      <td>0</td>\n",
       "      <td>1</td>\n",
       "      <td>0.280000</td>\n",
       "      <td>0.273391</td>\n",
       "      <td>0.507826</td>\n",
       "      <td>0.229083</td>\n",
       "      <td>502</td>\n",
       "      <td>2627</td>\n",
       "      <td>3129</td>\n",
       "    </tr>\n",
       "    <tr>\n",
       "      <th>471</th>\n",
       "      <td>2</td>\n",
       "      <td>4</td>\n",
       "      <td>1</td>\n",
       "      <td>1</td>\n",
       "      <td>0</td>\n",
       "      <td>1</td>\n",
       "      <td>0.664167</td>\n",
       "      <td>0.614925</td>\n",
       "      <td>0.561667</td>\n",
       "      <td>0.284829</td>\n",
       "      <td>1198</td>\n",
       "      <td>5172</td>\n",
       "      <td>6370</td>\n",
       "    </tr>\n",
       "    <tr>\n",
       "      <th>513</th>\n",
       "      <td>2</td>\n",
       "      <td>5</td>\n",
       "      <td>1</td>\n",
       "      <td>1</td>\n",
       "      <td>0</td>\n",
       "      <td>1</td>\n",
       "      <td>0.712500</td>\n",
       "      <td>0.679300</td>\n",
       "      <td>0.676250</td>\n",
       "      <td>0.196521</td>\n",
       "      <td>2557</td>\n",
       "      <td>3486</td>\n",
       "      <td>6043</td>\n",
       "    </tr>\n",
       "    <tr>\n",
       "      <th>550</th>\n",
       "      <td>3</td>\n",
       "      <td>7</td>\n",
       "      <td>1</td>\n",
       "      <td>3</td>\n",
       "      <td>0</td>\n",
       "      <td>1</td>\n",
       "      <td>0.789167</td>\n",
       "      <td>0.732337</td>\n",
       "      <td>0.538750</td>\n",
       "      <td>0.134950</td>\n",
       "      <td>2562</td>\n",
       "      <td>4841</td>\n",
       "      <td>7403</td>\n",
       "    </tr>\n",
       "    <tr>\n",
       "      <th>611</th>\n",
       "      <td>3</td>\n",
       "      <td>9</td>\n",
       "      <td>1</td>\n",
       "      <td>1</td>\n",
       "      <td>0</td>\n",
       "      <td>1</td>\n",
       "      <td>0.707500</td>\n",
       "      <td>0.661629</td>\n",
       "      <td>0.790833</td>\n",
       "      <td>0.151121</td>\n",
       "      <td>1965</td>\n",
       "      <td>4069</td>\n",
       "      <td>6034</td>\n",
       "    </tr>\n",
       "    <tr>\n",
       "      <th>646</th>\n",
       "      <td>4</td>\n",
       "      <td>10</td>\n",
       "      <td>1</td>\n",
       "      <td>1</td>\n",
       "      <td>0</td>\n",
       "      <td>2</td>\n",
       "      <td>0.383333</td>\n",
       "      <td>0.387608</td>\n",
       "      <td>0.709583</td>\n",
       "      <td>0.189679</td>\n",
       "      <td>874</td>\n",
       "      <td>4604</td>\n",
       "      <td>5478</td>\n",
       "    </tr>\n",
       "    <tr>\n",
       "      <th>681</th>\n",
       "      <td>4</td>\n",
       "      <td>11</td>\n",
       "      <td>1</td>\n",
       "      <td>1</td>\n",
       "      <td>0</td>\n",
       "      <td>1</td>\n",
       "      <td>0.485000</td>\n",
       "      <td>0.475383</td>\n",
       "      <td>0.741667</td>\n",
       "      <td>0.173517</td>\n",
       "      <td>1097</td>\n",
       "      <td>5172</td>\n",
       "      <td>6269</td>\n",
       "    </tr>\n",
       "    <tr>\n",
       "      <th>691</th>\n",
       "      <td>4</td>\n",
       "      <td>11</td>\n",
       "      <td>1</td>\n",
       "      <td>4</td>\n",
       "      <td>0</td>\n",
       "      <td>1</td>\n",
       "      <td>0.340000</td>\n",
       "      <td>0.350371</td>\n",
       "      <td>0.580417</td>\n",
       "      <td>0.052871</td>\n",
       "      <td>955</td>\n",
       "      <td>1470</td>\n",
       "      <td>2425</td>\n",
       "    </tr>\n",
       "    <tr>\n",
       "      <th>724</th>\n",
       "      <td>1</td>\n",
       "      <td>12</td>\n",
       "      <td>1</td>\n",
       "      <td>2</td>\n",
       "      <td>0</td>\n",
       "      <td>2</td>\n",
       "      <td>0.291304</td>\n",
       "      <td>0.294465</td>\n",
       "      <td>0.734783</td>\n",
       "      <td>0.168726</td>\n",
       "      <td>440</td>\n",
       "      <td>573</td>\n",
       "      <td>1013</td>\n",
       "    </tr>\n",
       "  </tbody>\n",
       "</table>\n",
       "</div>"
      ],
      "text/plain": [
       "     season  month  holiday  weekday  workingday  weather      temp     atemp  \\\n",
       "16        1      1        1        1           0        2  0.175833  0.176771   \n",
       "51        1      2        1        1           0        2  0.303333  0.284075   \n",
       "104       2      4        1        5           0        1  0.446667  0.441913   \n",
       "149       2      5        1        1           0        1  0.733333  0.671092   \n",
       "184       3      7        1        1           0        2  0.726667  0.665417   \n",
       "247       3      9        1        1           0        2  0.673333  0.625646   \n",
       "282       4     10        1        1           0        1  0.570833  0.542925   \n",
       "314       4     11        1        5           0        1  0.324167  0.306817   \n",
       "327       4     11        1        4           0        1  0.373333  0.372471   \n",
       "359       1     12        1        1           0        1  0.321739  0.315535   \n",
       "366       1      1        1        1           0        1  0.273043  0.252304   \n",
       "380       1      1        1        1           0        1  0.190000  0.190663   \n",
       "415       1      2        1        1           0        1  0.280000  0.273391   \n",
       "471       2      4        1        1           0        1  0.664167  0.614925   \n",
       "513       2      5        1        1           0        1  0.712500  0.679300   \n",
       "550       3      7        1        3           0        1  0.789167  0.732337   \n",
       "611       3      9        1        1           0        1  0.707500  0.661629   \n",
       "646       4     10        1        1           0        2  0.383333  0.387608   \n",
       "681       4     11        1        1           0        1  0.485000  0.475383   \n",
       "691       4     11        1        4           0        1  0.340000  0.350371   \n",
       "724       1     12        1        2           0        2  0.291304  0.294465   \n",
       "\n",
       "     humidity  windspeed  casual  registered  count  \n",
       "16   0.537500   0.194017     117         883   1000  \n",
       "51   0.605000   0.307846     195         912   1107  \n",
       "104  0.671250   0.226375     642        2484   3126  \n",
       "149  0.685000   0.131225    1549        2549   4098  \n",
       "184  0.637917   0.081479    3065        2978   6043  \n",
       "247  0.790417   0.212696    1236        2115   3351  \n",
       "282  0.733750   0.042304    1514        3603   5117  \n",
       "314  0.446250   0.314675     440        2928   3368  \n",
       "327  0.549167   0.167304     560         935   1495  \n",
       "359  0.506957   0.239465     430         887   1317  \n",
       "366  0.381304   0.329665     244        1707   1951  \n",
       "380  0.522500   0.231358     217        2081   2298  \n",
       "415  0.507826   0.229083     502        2627   3129  \n",
       "471  0.561667   0.284829    1198        5172   6370  \n",
       "513  0.676250   0.196521    2557        3486   6043  \n",
       "550  0.538750   0.134950    2562        4841   7403  \n",
       "611  0.790833   0.151121    1965        4069   6034  \n",
       "646  0.709583   0.189679     874        4604   5478  \n",
       "681  0.741667   0.173517    1097        5172   6269  \n",
       "691  0.580417   0.052871     955        1470   2425  \n",
       "724  0.734783   0.168726     440         573   1013  "
      ]
     },
     "execution_count": 23,
     "metadata": {},
     "output_type": "execute_result"
    }
   ],
   "source": [
    "df.loc[(df['holiday']>upper_limit) | (df['holiday']<lower_limit)]"
   ]
  },
  {
   "cell_type": "markdown",
   "id": "9918ebb0",
   "metadata": {},
   "source": [
    "##### Changing int columns to category :"
   ]
  },
  {
   "cell_type": "code",
   "execution_count": 24,
   "id": "10ea6b40",
   "metadata": {},
   "outputs": [],
   "source": [
    "categorical_day =  ['season', 'month', 'holiday', 'weekday','workingday', 'weather']"
   ]
  },
  {
   "cell_type": "code",
   "execution_count": 25,
   "id": "1bd44e71",
   "metadata": {},
   "outputs": [],
   "source": [
    "for cat in categorical_day:\n",
    "    df[cat] = df[cat].astype('category')"
   ]
  },
  {
   "cell_type": "code",
   "execution_count": 26,
   "id": "be90b02b",
   "metadata": {},
   "outputs": [
    {
     "name": "stdout",
     "output_type": "stream",
     "text": [
      "<class 'pandas.core.frame.DataFrame'>\n",
      "RangeIndex: 731 entries, 0 to 730\n",
      "Data columns (total 13 columns):\n",
      " #   Column      Non-Null Count  Dtype   \n",
      "---  ------      --------------  -----   \n",
      " 0   season      731 non-null    category\n",
      " 1   month       731 non-null    category\n",
      " 2   holiday     731 non-null    category\n",
      " 3   weekday     731 non-null    category\n",
      " 4   workingday  731 non-null    category\n",
      " 5   weather     731 non-null    category\n",
      " 6   temp        731 non-null    float64 \n",
      " 7   atemp       731 non-null    float64 \n",
      " 8   humidity    731 non-null    float64 \n",
      " 9   windspeed   731 non-null    float64 \n",
      " 10  casual      731 non-null    int64   \n",
      " 11  registered  731 non-null    int64   \n",
      " 12  count       731 non-null    int64   \n",
      "dtypes: category(6), float64(4), int64(3)\n",
      "memory usage: 45.7 KB\n"
     ]
    }
   ],
   "source": [
    "df.info()"
   ]
  },
  {
   "cell_type": "code",
   "execution_count": 27,
   "id": "4cc8e8e7",
   "metadata": {},
   "outputs": [
    {
     "data": {
      "text/html": [
       "<div>\n",
       "<style scoped>\n",
       "    .dataframe tbody tr th:only-of-type {\n",
       "        vertical-align: middle;\n",
       "    }\n",
       "\n",
       "    .dataframe tbody tr th {\n",
       "        vertical-align: top;\n",
       "    }\n",
       "\n",
       "    .dataframe thead th {\n",
       "        text-align: right;\n",
       "    }\n",
       "</style>\n",
       "<table border=\"1\" class=\"dataframe\">\n",
       "  <thead>\n",
       "    <tr style=\"text-align: right;\">\n",
       "      <th></th>\n",
       "      <th>temp</th>\n",
       "      <th>atemp</th>\n",
       "      <th>humidity</th>\n",
       "      <th>windspeed</th>\n",
       "      <th>casual</th>\n",
       "      <th>registered</th>\n",
       "      <th>count</th>\n",
       "      <th>season_2</th>\n",
       "      <th>season_3</th>\n",
       "      <th>season_4</th>\n",
       "      <th>month_2</th>\n",
       "      <th>month_3</th>\n",
       "      <th>month_4</th>\n",
       "      <th>month_5</th>\n",
       "      <th>month_6</th>\n",
       "      <th>month_7</th>\n",
       "      <th>month_8</th>\n",
       "      <th>month_9</th>\n",
       "      <th>month_10</th>\n",
       "      <th>month_11</th>\n",
       "      <th>month_12</th>\n",
       "      <th>holiday_1</th>\n",
       "      <th>weekday_1</th>\n",
       "      <th>weekday_2</th>\n",
       "      <th>weekday_3</th>\n",
       "      <th>weekday_4</th>\n",
       "      <th>weekday_5</th>\n",
       "      <th>weekday_6</th>\n",
       "      <th>workingday_1</th>\n",
       "      <th>weather_2</th>\n",
       "      <th>weather_3</th>\n",
       "    </tr>\n",
       "  </thead>\n",
       "  <tbody>\n",
       "    <tr>\n",
       "      <th>0</th>\n",
       "      <td>0.344167</td>\n",
       "      <td>0.363625</td>\n",
       "      <td>0.805833</td>\n",
       "      <td>0.160446</td>\n",
       "      <td>331</td>\n",
       "      <td>654</td>\n",
       "      <td>985</td>\n",
       "      <td>0</td>\n",
       "      <td>0</td>\n",
       "      <td>0</td>\n",
       "      <td>0</td>\n",
       "      <td>0</td>\n",
       "      <td>0</td>\n",
       "      <td>0</td>\n",
       "      <td>0</td>\n",
       "      <td>0</td>\n",
       "      <td>0</td>\n",
       "      <td>0</td>\n",
       "      <td>0</td>\n",
       "      <td>0</td>\n",
       "      <td>0</td>\n",
       "      <td>0</td>\n",
       "      <td>0</td>\n",
       "      <td>0</td>\n",
       "      <td>0</td>\n",
       "      <td>0</td>\n",
       "      <td>0</td>\n",
       "      <td>1</td>\n",
       "      <td>0</td>\n",
       "      <td>1</td>\n",
       "      <td>0</td>\n",
       "    </tr>\n",
       "    <tr>\n",
       "      <th>1</th>\n",
       "      <td>0.363478</td>\n",
       "      <td>0.353739</td>\n",
       "      <td>0.696087</td>\n",
       "      <td>0.248539</td>\n",
       "      <td>131</td>\n",
       "      <td>670</td>\n",
       "      <td>801</td>\n",
       "      <td>0</td>\n",
       "      <td>0</td>\n",
       "      <td>0</td>\n",
       "      <td>0</td>\n",
       "      <td>0</td>\n",
       "      <td>0</td>\n",
       "      <td>0</td>\n",
       "      <td>0</td>\n",
       "      <td>0</td>\n",
       "      <td>0</td>\n",
       "      <td>0</td>\n",
       "      <td>0</td>\n",
       "      <td>0</td>\n",
       "      <td>0</td>\n",
       "      <td>0</td>\n",
       "      <td>0</td>\n",
       "      <td>0</td>\n",
       "      <td>0</td>\n",
       "      <td>0</td>\n",
       "      <td>0</td>\n",
       "      <td>0</td>\n",
       "      <td>0</td>\n",
       "      <td>1</td>\n",
       "      <td>0</td>\n",
       "    </tr>\n",
       "    <tr>\n",
       "      <th>2</th>\n",
       "      <td>0.196364</td>\n",
       "      <td>0.189405</td>\n",
       "      <td>0.437273</td>\n",
       "      <td>0.248309</td>\n",
       "      <td>120</td>\n",
       "      <td>1229</td>\n",
       "      <td>1349</td>\n",
       "      <td>0</td>\n",
       "      <td>0</td>\n",
       "      <td>0</td>\n",
       "      <td>0</td>\n",
       "      <td>0</td>\n",
       "      <td>0</td>\n",
       "      <td>0</td>\n",
       "      <td>0</td>\n",
       "      <td>0</td>\n",
       "      <td>0</td>\n",
       "      <td>0</td>\n",
       "      <td>0</td>\n",
       "      <td>0</td>\n",
       "      <td>0</td>\n",
       "      <td>0</td>\n",
       "      <td>1</td>\n",
       "      <td>0</td>\n",
       "      <td>0</td>\n",
       "      <td>0</td>\n",
       "      <td>0</td>\n",
       "      <td>0</td>\n",
       "      <td>1</td>\n",
       "      <td>0</td>\n",
       "      <td>0</td>\n",
       "    </tr>\n",
       "    <tr>\n",
       "      <th>3</th>\n",
       "      <td>0.200000</td>\n",
       "      <td>0.212122</td>\n",
       "      <td>0.590435</td>\n",
       "      <td>0.160296</td>\n",
       "      <td>108</td>\n",
       "      <td>1454</td>\n",
       "      <td>1562</td>\n",
       "      <td>0</td>\n",
       "      <td>0</td>\n",
       "      <td>0</td>\n",
       "      <td>0</td>\n",
       "      <td>0</td>\n",
       "      <td>0</td>\n",
       "      <td>0</td>\n",
       "      <td>0</td>\n",
       "      <td>0</td>\n",
       "      <td>0</td>\n",
       "      <td>0</td>\n",
       "      <td>0</td>\n",
       "      <td>0</td>\n",
       "      <td>0</td>\n",
       "      <td>0</td>\n",
       "      <td>0</td>\n",
       "      <td>1</td>\n",
       "      <td>0</td>\n",
       "      <td>0</td>\n",
       "      <td>0</td>\n",
       "      <td>0</td>\n",
       "      <td>1</td>\n",
       "      <td>0</td>\n",
       "      <td>0</td>\n",
       "    </tr>\n",
       "    <tr>\n",
       "      <th>4</th>\n",
       "      <td>0.226957</td>\n",
       "      <td>0.229270</td>\n",
       "      <td>0.436957</td>\n",
       "      <td>0.186900</td>\n",
       "      <td>82</td>\n",
       "      <td>1518</td>\n",
       "      <td>1600</td>\n",
       "      <td>0</td>\n",
       "      <td>0</td>\n",
       "      <td>0</td>\n",
       "      <td>0</td>\n",
       "      <td>0</td>\n",
       "      <td>0</td>\n",
       "      <td>0</td>\n",
       "      <td>0</td>\n",
       "      <td>0</td>\n",
       "      <td>0</td>\n",
       "      <td>0</td>\n",
       "      <td>0</td>\n",
       "      <td>0</td>\n",
       "      <td>0</td>\n",
       "      <td>0</td>\n",
       "      <td>0</td>\n",
       "      <td>0</td>\n",
       "      <td>1</td>\n",
       "      <td>0</td>\n",
       "      <td>0</td>\n",
       "      <td>0</td>\n",
       "      <td>1</td>\n",
       "      <td>0</td>\n",
       "      <td>0</td>\n",
       "    </tr>\n",
       "  </tbody>\n",
       "</table>\n",
       "</div>"
      ],
      "text/plain": [
       "       temp     atemp  humidity  windspeed  casual  registered  count  \\\n",
       "0  0.344167  0.363625  0.805833   0.160446     331         654    985   \n",
       "1  0.363478  0.353739  0.696087   0.248539     131         670    801   \n",
       "2  0.196364  0.189405  0.437273   0.248309     120        1229   1349   \n",
       "3  0.200000  0.212122  0.590435   0.160296     108        1454   1562   \n",
       "4  0.226957  0.229270  0.436957   0.186900      82        1518   1600   \n",
       "\n",
       "   season_2  season_3  season_4  month_2  month_3  month_4  month_5  month_6  \\\n",
       "0         0         0         0        0        0        0        0        0   \n",
       "1         0         0         0        0        0        0        0        0   \n",
       "2         0         0         0        0        0        0        0        0   \n",
       "3         0         0         0        0        0        0        0        0   \n",
       "4         0         0         0        0        0        0        0        0   \n",
       "\n",
       "   month_7  month_8  month_9  month_10  month_11  month_12  holiday_1  \\\n",
       "0        0        0        0         0         0         0          0   \n",
       "1        0        0        0         0         0         0          0   \n",
       "2        0        0        0         0         0         0          0   \n",
       "3        0        0        0         0         0         0          0   \n",
       "4        0        0        0         0         0         0          0   \n",
       "\n",
       "   weekday_1  weekday_2  weekday_3  weekday_4  weekday_5  weekday_6  \\\n",
       "0          0          0          0          0          0          1   \n",
       "1          0          0          0          0          0          0   \n",
       "2          1          0          0          0          0          0   \n",
       "3          0          1          0          0          0          0   \n",
       "4          0          0          1          0          0          0   \n",
       "\n",
       "   workingday_1  weather_2  weather_3  \n",
       "0             0          1          0  \n",
       "1             0          1          0  \n",
       "2             1          0          0  \n",
       "3             1          0          0  \n",
       "4             1          0          0  "
      ]
     },
     "execution_count": 27,
     "metadata": {},
     "output_type": "execute_result"
    }
   ],
   "source": [
    "df = pd.get_dummies(df,columns=['season', 'month', 'holiday', 'weekday','workingday', 'weather'],drop_first=True)\n",
    "pd.set_option('display.max_columns', 500)\n",
    "df.head(5)"
   ]
  },
  {
   "cell_type": "markdown",
   "id": "a3742d67",
   "metadata": {},
   "source": [
    "# 4.Train Test Split"
   ]
  },
  {
   "cell_type": "code",
   "execution_count": 28,
   "id": "e4924592",
   "metadata": {},
   "outputs": [],
   "source": [
    "X = df.drop(columns=['atemp', 'registered', 'count'], axis=1)\n",
    "Y = df['count']"
   ]
  },
  {
   "cell_type": "code",
   "execution_count": 29,
   "id": "ff83e0e6",
   "metadata": {},
   "outputs": [
    {
     "data": {
      "text/html": [
       "<div>\n",
       "<style scoped>\n",
       "    .dataframe tbody tr th:only-of-type {\n",
       "        vertical-align: middle;\n",
       "    }\n",
       "\n",
       "    .dataframe tbody tr th {\n",
       "        vertical-align: top;\n",
       "    }\n",
       "\n",
       "    .dataframe thead th {\n",
       "        text-align: right;\n",
       "    }\n",
       "</style>\n",
       "<table border=\"1\" class=\"dataframe\">\n",
       "  <thead>\n",
       "    <tr style=\"text-align: right;\">\n",
       "      <th></th>\n",
       "      <th>temp</th>\n",
       "      <th>humidity</th>\n",
       "      <th>windspeed</th>\n",
       "      <th>casual</th>\n",
       "      <th>season_2</th>\n",
       "      <th>season_3</th>\n",
       "      <th>season_4</th>\n",
       "      <th>month_2</th>\n",
       "      <th>month_3</th>\n",
       "      <th>month_4</th>\n",
       "      <th>month_5</th>\n",
       "      <th>month_6</th>\n",
       "      <th>month_7</th>\n",
       "      <th>month_8</th>\n",
       "      <th>month_9</th>\n",
       "      <th>month_10</th>\n",
       "      <th>month_11</th>\n",
       "      <th>month_12</th>\n",
       "      <th>holiday_1</th>\n",
       "      <th>weekday_1</th>\n",
       "      <th>weekday_2</th>\n",
       "      <th>weekday_3</th>\n",
       "      <th>weekday_4</th>\n",
       "      <th>weekday_5</th>\n",
       "      <th>weekday_6</th>\n",
       "      <th>workingday_1</th>\n",
       "      <th>weather_2</th>\n",
       "      <th>weather_3</th>\n",
       "    </tr>\n",
       "  </thead>\n",
       "  <tbody>\n",
       "    <tr>\n",
       "      <th>0</th>\n",
       "      <td>0.344167</td>\n",
       "      <td>0.805833</td>\n",
       "      <td>0.160446</td>\n",
       "      <td>331</td>\n",
       "      <td>0</td>\n",
       "      <td>0</td>\n",
       "      <td>0</td>\n",
       "      <td>0</td>\n",
       "      <td>0</td>\n",
       "      <td>0</td>\n",
       "      <td>0</td>\n",
       "      <td>0</td>\n",
       "      <td>0</td>\n",
       "      <td>0</td>\n",
       "      <td>0</td>\n",
       "      <td>0</td>\n",
       "      <td>0</td>\n",
       "      <td>0</td>\n",
       "      <td>0</td>\n",
       "      <td>0</td>\n",
       "      <td>0</td>\n",
       "      <td>0</td>\n",
       "      <td>0</td>\n",
       "      <td>0</td>\n",
       "      <td>1</td>\n",
       "      <td>0</td>\n",
       "      <td>1</td>\n",
       "      <td>0</td>\n",
       "    </tr>\n",
       "    <tr>\n",
       "      <th>1</th>\n",
       "      <td>0.363478</td>\n",
       "      <td>0.696087</td>\n",
       "      <td>0.248539</td>\n",
       "      <td>131</td>\n",
       "      <td>0</td>\n",
       "      <td>0</td>\n",
       "      <td>0</td>\n",
       "      <td>0</td>\n",
       "      <td>0</td>\n",
       "      <td>0</td>\n",
       "      <td>0</td>\n",
       "      <td>0</td>\n",
       "      <td>0</td>\n",
       "      <td>0</td>\n",
       "      <td>0</td>\n",
       "      <td>0</td>\n",
       "      <td>0</td>\n",
       "      <td>0</td>\n",
       "      <td>0</td>\n",
       "      <td>0</td>\n",
       "      <td>0</td>\n",
       "      <td>0</td>\n",
       "      <td>0</td>\n",
       "      <td>0</td>\n",
       "      <td>0</td>\n",
       "      <td>0</td>\n",
       "      <td>1</td>\n",
       "      <td>0</td>\n",
       "    </tr>\n",
       "    <tr>\n",
       "      <th>2</th>\n",
       "      <td>0.196364</td>\n",
       "      <td>0.437273</td>\n",
       "      <td>0.248309</td>\n",
       "      <td>120</td>\n",
       "      <td>0</td>\n",
       "      <td>0</td>\n",
       "      <td>0</td>\n",
       "      <td>0</td>\n",
       "      <td>0</td>\n",
       "      <td>0</td>\n",
       "      <td>0</td>\n",
       "      <td>0</td>\n",
       "      <td>0</td>\n",
       "      <td>0</td>\n",
       "      <td>0</td>\n",
       "      <td>0</td>\n",
       "      <td>0</td>\n",
       "      <td>0</td>\n",
       "      <td>0</td>\n",
       "      <td>1</td>\n",
       "      <td>0</td>\n",
       "      <td>0</td>\n",
       "      <td>0</td>\n",
       "      <td>0</td>\n",
       "      <td>0</td>\n",
       "      <td>1</td>\n",
       "      <td>0</td>\n",
       "      <td>0</td>\n",
       "    </tr>\n",
       "    <tr>\n",
       "      <th>3</th>\n",
       "      <td>0.200000</td>\n",
       "      <td>0.590435</td>\n",
       "      <td>0.160296</td>\n",
       "      <td>108</td>\n",
       "      <td>0</td>\n",
       "      <td>0</td>\n",
       "      <td>0</td>\n",
       "      <td>0</td>\n",
       "      <td>0</td>\n",
       "      <td>0</td>\n",
       "      <td>0</td>\n",
       "      <td>0</td>\n",
       "      <td>0</td>\n",
       "      <td>0</td>\n",
       "      <td>0</td>\n",
       "      <td>0</td>\n",
       "      <td>0</td>\n",
       "      <td>0</td>\n",
       "      <td>0</td>\n",
       "      <td>0</td>\n",
       "      <td>1</td>\n",
       "      <td>0</td>\n",
       "      <td>0</td>\n",
       "      <td>0</td>\n",
       "      <td>0</td>\n",
       "      <td>1</td>\n",
       "      <td>0</td>\n",
       "      <td>0</td>\n",
       "    </tr>\n",
       "    <tr>\n",
       "      <th>4</th>\n",
       "      <td>0.226957</td>\n",
       "      <td>0.436957</td>\n",
       "      <td>0.186900</td>\n",
       "      <td>82</td>\n",
       "      <td>0</td>\n",
       "      <td>0</td>\n",
       "      <td>0</td>\n",
       "      <td>0</td>\n",
       "      <td>0</td>\n",
       "      <td>0</td>\n",
       "      <td>0</td>\n",
       "      <td>0</td>\n",
       "      <td>0</td>\n",
       "      <td>0</td>\n",
       "      <td>0</td>\n",
       "      <td>0</td>\n",
       "      <td>0</td>\n",
       "      <td>0</td>\n",
       "      <td>0</td>\n",
       "      <td>0</td>\n",
       "      <td>0</td>\n",
       "      <td>1</td>\n",
       "      <td>0</td>\n",
       "      <td>0</td>\n",
       "      <td>0</td>\n",
       "      <td>1</td>\n",
       "      <td>0</td>\n",
       "      <td>0</td>\n",
       "    </tr>\n",
       "  </tbody>\n",
       "</table>\n",
       "</div>"
      ],
      "text/plain": [
       "       temp  humidity  windspeed  casual  season_2  season_3  season_4  \\\n",
       "0  0.344167  0.805833   0.160446     331         0         0         0   \n",
       "1  0.363478  0.696087   0.248539     131         0         0         0   \n",
       "2  0.196364  0.437273   0.248309     120         0         0         0   \n",
       "3  0.200000  0.590435   0.160296     108         0         0         0   \n",
       "4  0.226957  0.436957   0.186900      82         0         0         0   \n",
       "\n",
       "   month_2  month_3  month_4  month_5  month_6  month_7  month_8  month_9  \\\n",
       "0        0        0        0        0        0        0        0        0   \n",
       "1        0        0        0        0        0        0        0        0   \n",
       "2        0        0        0        0        0        0        0        0   \n",
       "3        0        0        0        0        0        0        0        0   \n",
       "4        0        0        0        0        0        0        0        0   \n",
       "\n",
       "   month_10  month_11  month_12  holiday_1  weekday_1  weekday_2  weekday_3  \\\n",
       "0         0         0         0          0          0          0          0   \n",
       "1         0         0         0          0          0          0          0   \n",
       "2         0         0         0          0          1          0          0   \n",
       "3         0         0         0          0          0          1          0   \n",
       "4         0         0         0          0          0          0          1   \n",
       "\n",
       "   weekday_4  weekday_5  weekday_6  workingday_1  weather_2  weather_3  \n",
       "0          0          0          1             0          1          0  \n",
       "1          0          0          0             0          1          0  \n",
       "2          0          0          0             1          0          0  \n",
       "3          0          0          0             1          0          0  \n",
       "4          0          0          0             1          0          0  "
      ]
     },
     "execution_count": 29,
     "metadata": {},
     "output_type": "execute_result"
    }
   ],
   "source": [
    "X.head(5)"
   ]
  },
  {
   "cell_type": "code",
   "execution_count": 30,
   "id": "5b2550ae",
   "metadata": {},
   "outputs": [
    {
     "data": {
      "text/plain": [
       "0     985\n",
       "1     801\n",
       "2    1349\n",
       "3    1562\n",
       "4    1600\n",
       "Name: count, dtype: int64"
      ]
     },
     "execution_count": 30,
     "metadata": {},
     "output_type": "execute_result"
    }
   ],
   "source": [
    "Y.head(5)"
   ]
  },
  {
   "cell_type": "code",
   "execution_count": 31,
   "id": "cae84262",
   "metadata": {},
   "outputs": [],
   "source": [
    "from sklearn.model_selection import train_test_split\n",
    "\n",
    "X_train, X_test, Y_train, Y_test = train_test_split(X, Y, test_size=0.2, random_state=42)"
   ]
  },
  {
   "cell_type": "code",
   "execution_count": 32,
   "id": "a43cb6e8",
   "metadata": {},
   "outputs": [
    {
     "name": "stdout",
     "output_type": "stream",
     "text": [
      "(731, 28) (584, 28) (147, 28)\n"
     ]
    }
   ],
   "source": [
    "print(X.shape, X_train.shape, X_test.shape)"
   ]
  },
  {
   "cell_type": "markdown",
   "id": "ac021b1a",
   "metadata": {},
   "source": [
    "## Feature Normalization"
   ]
  },
  {
   "cell_type": "code",
   "execution_count": 33,
   "id": "00c4f5cc",
   "metadata": {},
   "outputs": [],
   "source": [
    "Continuous = [\"temp\",\"humidity\",'windspeed','casual']"
   ]
  },
  {
   "cell_type": "code",
   "execution_count": 34,
   "id": "3a987367",
   "metadata": {},
   "outputs": [],
   "source": [
    "from sklearn.preprocessing import StandardScaler \n",
    "std = StandardScaler()"
   ]
  },
  {
   "cell_type": "code",
   "execution_count": 35,
   "id": "d6750194",
   "metadata": {},
   "outputs": [],
   "source": [
    "X_train[Continuous] = std.fit_transform(X_train[Continuous])\n",
    "X_test[Continuous] = std.transform(X_test[Continuous])"
   ]
  },
  {
   "cell_type": "code",
   "execution_count": 36,
   "id": "2c4f4640",
   "metadata": {},
   "outputs": [
    {
     "data": {
      "text/html": [
       "<div>\n",
       "<style scoped>\n",
       "    .dataframe tbody tr th:only-of-type {\n",
       "        vertical-align: middle;\n",
       "    }\n",
       "\n",
       "    .dataframe tbody tr th {\n",
       "        vertical-align: top;\n",
       "    }\n",
       "\n",
       "    .dataframe thead th {\n",
       "        text-align: right;\n",
       "    }\n",
       "</style>\n",
       "<table border=\"1\" class=\"dataframe\">\n",
       "  <thead>\n",
       "    <tr style=\"text-align: right;\">\n",
       "      <th></th>\n",
       "      <th>temp</th>\n",
       "      <th>humidity</th>\n",
       "      <th>windspeed</th>\n",
       "      <th>casual</th>\n",
       "      <th>season_2</th>\n",
       "      <th>season_3</th>\n",
       "      <th>season_4</th>\n",
       "      <th>month_2</th>\n",
       "      <th>month_3</th>\n",
       "      <th>month_4</th>\n",
       "      <th>month_5</th>\n",
       "      <th>month_6</th>\n",
       "      <th>month_7</th>\n",
       "      <th>month_8</th>\n",
       "      <th>month_9</th>\n",
       "      <th>month_10</th>\n",
       "      <th>month_11</th>\n",
       "      <th>month_12</th>\n",
       "      <th>holiday_1</th>\n",
       "      <th>weekday_1</th>\n",
       "      <th>weekday_2</th>\n",
       "      <th>weekday_3</th>\n",
       "      <th>weekday_4</th>\n",
       "      <th>weekday_5</th>\n",
       "      <th>weekday_6</th>\n",
       "      <th>workingday_1</th>\n",
       "      <th>weather_2</th>\n",
       "      <th>weather_3</th>\n",
       "    </tr>\n",
       "  </thead>\n",
       "  <tbody>\n",
       "    <tr>\n",
       "      <th>682</th>\n",
       "      <td>-0.864610</td>\n",
       "      <td>0.219621</td>\n",
       "      <td>1.980745</td>\n",
       "      <td>-0.773298</td>\n",
       "      <td>0</td>\n",
       "      <td>0</td>\n",
       "      <td>1</td>\n",
       "      <td>0</td>\n",
       "      <td>0</td>\n",
       "      <td>0</td>\n",
       "      <td>0</td>\n",
       "      <td>0</td>\n",
       "      <td>0</td>\n",
       "      <td>0</td>\n",
       "      <td>0</td>\n",
       "      <td>0</td>\n",
       "      <td>1</td>\n",
       "      <td>0</td>\n",
       "      <td>0</td>\n",
       "      <td>0</td>\n",
       "      <td>1</td>\n",
       "      <td>0</td>\n",
       "      <td>0</td>\n",
       "      <td>0</td>\n",
       "      <td>0</td>\n",
       "      <td>1</td>\n",
       "      <td>1</td>\n",
       "      <td>0</td>\n",
       "    </tr>\n",
       "    <tr>\n",
       "      <th>250</th>\n",
       "      <td>0.737288</td>\n",
       "      <td>2.201053</td>\n",
       "      <td>0.032785</td>\n",
       "      <td>-1.022045</td>\n",
       "      <td>0</td>\n",
       "      <td>1</td>\n",
       "      <td>0</td>\n",
       "      <td>0</td>\n",
       "      <td>0</td>\n",
       "      <td>0</td>\n",
       "      <td>0</td>\n",
       "      <td>0</td>\n",
       "      <td>0</td>\n",
       "      <td>0</td>\n",
       "      <td>1</td>\n",
       "      <td>0</td>\n",
       "      <td>0</td>\n",
       "      <td>0</td>\n",
       "      <td>0</td>\n",
       "      <td>0</td>\n",
       "      <td>0</td>\n",
       "      <td>0</td>\n",
       "      <td>1</td>\n",
       "      <td>0</td>\n",
       "      <td>0</td>\n",
       "      <td>1</td>\n",
       "      <td>0</td>\n",
       "      <td>1</td>\n",
       "    </tr>\n",
       "    <tr>\n",
       "      <th>336</th>\n",
       "      <td>-1.108087</td>\n",
       "      <td>-0.138494</td>\n",
       "      <td>-1.232358</td>\n",
       "      <td>-0.231485</td>\n",
       "      <td>0</td>\n",
       "      <td>0</td>\n",
       "      <td>1</td>\n",
       "      <td>0</td>\n",
       "      <td>0</td>\n",
       "      <td>0</td>\n",
       "      <td>0</td>\n",
       "      <td>0</td>\n",
       "      <td>0</td>\n",
       "      <td>0</td>\n",
       "      <td>0</td>\n",
       "      <td>0</td>\n",
       "      <td>0</td>\n",
       "      <td>1</td>\n",
       "      <td>0</td>\n",
       "      <td>0</td>\n",
       "      <td>0</td>\n",
       "      <td>0</td>\n",
       "      <td>0</td>\n",
       "      <td>0</td>\n",
       "      <td>1</td>\n",
       "      <td>0</td>\n",
       "      <td>0</td>\n",
       "      <td>0</td>\n",
       "    </tr>\n",
       "    <tr>\n",
       "      <th>260</th>\n",
       "      <td>0.040404</td>\n",
       "      <td>0.449408</td>\n",
       "      <td>-0.153337</td>\n",
       "      <td>0.693456</td>\n",
       "      <td>0</td>\n",
       "      <td>1</td>\n",
       "      <td>0</td>\n",
       "      <td>0</td>\n",
       "      <td>0</td>\n",
       "      <td>0</td>\n",
       "      <td>0</td>\n",
       "      <td>0</td>\n",
       "      <td>0</td>\n",
       "      <td>0</td>\n",
       "      <td>1</td>\n",
       "      <td>0</td>\n",
       "      <td>0</td>\n",
       "      <td>0</td>\n",
       "      <td>0</td>\n",
       "      <td>0</td>\n",
       "      <td>0</td>\n",
       "      <td>0</td>\n",
       "      <td>0</td>\n",
       "      <td>0</td>\n",
       "      <td>0</td>\n",
       "      <td>0</td>\n",
       "      <td>0</td>\n",
       "      <td>0</td>\n",
       "    </tr>\n",
       "    <tr>\n",
       "      <th>543</th>\n",
       "      <td>1.087829</td>\n",
       "      <td>-1.949958</td>\n",
       "      <td>1.063887</td>\n",
       "      <td>0.298891</td>\n",
       "      <td>0</td>\n",
       "      <td>1</td>\n",
       "      <td>0</td>\n",
       "      <td>0</td>\n",
       "      <td>0</td>\n",
       "      <td>0</td>\n",
       "      <td>0</td>\n",
       "      <td>1</td>\n",
       "      <td>0</td>\n",
       "      <td>0</td>\n",
       "      <td>0</td>\n",
       "      <td>0</td>\n",
       "      <td>0</td>\n",
       "      <td>0</td>\n",
       "      <td>0</td>\n",
       "      <td>0</td>\n",
       "      <td>0</td>\n",
       "      <td>1</td>\n",
       "      <td>0</td>\n",
       "      <td>0</td>\n",
       "      <td>0</td>\n",
       "      <td>1</td>\n",
       "      <td>0</td>\n",
       "      <td>0</td>\n",
       "    </tr>\n",
       "  </tbody>\n",
       "</table>\n",
       "</div>"
      ],
      "text/plain": [
       "         temp  humidity  windspeed    casual  season_2  season_3  season_4  \\\n",
       "682 -0.864610  0.219621   1.980745 -0.773298         0         0         1   \n",
       "250  0.737288  2.201053   0.032785 -1.022045         0         1         0   \n",
       "336 -1.108087 -0.138494  -1.232358 -0.231485         0         0         1   \n",
       "260  0.040404  0.449408  -0.153337  0.693456         0         1         0   \n",
       "543  1.087829 -1.949958   1.063887  0.298891         0         1         0   \n",
       "\n",
       "     month_2  month_3  month_4  month_5  month_6  month_7  month_8  month_9  \\\n",
       "682        0        0        0        0        0        0        0        0   \n",
       "250        0        0        0        0        0        0        0        1   \n",
       "336        0        0        0        0        0        0        0        0   \n",
       "260        0        0        0        0        0        0        0        1   \n",
       "543        0        0        0        0        1        0        0        0   \n",
       "\n",
       "     month_10  month_11  month_12  holiday_1  weekday_1  weekday_2  weekday_3  \\\n",
       "682         0         1         0          0          0          1          0   \n",
       "250         0         0         0          0          0          0          0   \n",
       "336         0         0         1          0          0          0          0   \n",
       "260         0         0         0          0          0          0          0   \n",
       "543         0         0         0          0          0          0          1   \n",
       "\n",
       "     weekday_4  weekday_5  weekday_6  workingday_1  weather_2  weather_3  \n",
       "682          0          0          0             1          1          0  \n",
       "250          1          0          0             1          0          1  \n",
       "336          0          0          1             0          0          0  \n",
       "260          0          0          0             0          0          0  \n",
       "543          0          0          0             1          0          0  "
      ]
     },
     "execution_count": 36,
     "metadata": {},
     "output_type": "execute_result"
    }
   ],
   "source": [
    "X_traindf = pd.DataFrame(X_train, columns=X.columns)\n",
    "\n",
    "X_traindf.head()"
   ]
  },
  {
   "cell_type": "markdown",
   "id": "63558cae",
   "metadata": {},
   "source": [
    "# 5.Model Fitting"
   ]
  },
  {
   "cell_type": "markdown",
   "id": "c04c739b",
   "metadata": {},
   "source": [
    "## I. Linear Regression :"
   ]
  },
  {
   "cell_type": "code",
   "execution_count": 37,
   "id": "f66ca081",
   "metadata": {},
   "outputs": [],
   "source": [
    "from sklearn.linear_model import LinearRegression \n",
    "LR=LinearRegression() "
   ]
  },
  {
   "cell_type": "code",
   "execution_count": 38,
   "id": "4b3e5a56",
   "metadata": {},
   "outputs": [
    {
     "data": {
      "text/html": [
       "<style>#sk-container-id-1 {color: black;background-color: white;}#sk-container-id-1 pre{padding: 0;}#sk-container-id-1 div.sk-toggleable {background-color: white;}#sk-container-id-1 label.sk-toggleable__label {cursor: pointer;display: block;width: 100%;margin-bottom: 0;padding: 0.3em;box-sizing: border-box;text-align: center;}#sk-container-id-1 label.sk-toggleable__label-arrow:before {content: \"▸\";float: left;margin-right: 0.25em;color: #696969;}#sk-container-id-1 label.sk-toggleable__label-arrow:hover:before {color: black;}#sk-container-id-1 div.sk-estimator:hover label.sk-toggleable__label-arrow:before {color: black;}#sk-container-id-1 div.sk-toggleable__content {max-height: 0;max-width: 0;overflow: hidden;text-align: left;background-color: #f0f8ff;}#sk-container-id-1 div.sk-toggleable__content pre {margin: 0.2em;color: black;border-radius: 0.25em;background-color: #f0f8ff;}#sk-container-id-1 input.sk-toggleable__control:checked~div.sk-toggleable__content {max-height: 200px;max-width: 100%;overflow: auto;}#sk-container-id-1 input.sk-toggleable__control:checked~label.sk-toggleable__label-arrow:before {content: \"▾\";}#sk-container-id-1 div.sk-estimator input.sk-toggleable__control:checked~label.sk-toggleable__label {background-color: #d4ebff;}#sk-container-id-1 div.sk-label input.sk-toggleable__control:checked~label.sk-toggleable__label {background-color: #d4ebff;}#sk-container-id-1 input.sk-hidden--visually {border: 0;clip: rect(1px 1px 1px 1px);clip: rect(1px, 1px, 1px, 1px);height: 1px;margin: -1px;overflow: hidden;padding: 0;position: absolute;width: 1px;}#sk-container-id-1 div.sk-estimator {font-family: monospace;background-color: #f0f8ff;border: 1px dotted black;border-radius: 0.25em;box-sizing: border-box;margin-bottom: 0.5em;}#sk-container-id-1 div.sk-estimator:hover {background-color: #d4ebff;}#sk-container-id-1 div.sk-parallel-item::after {content: \"\";width: 100%;border-bottom: 1px solid gray;flex-grow: 1;}#sk-container-id-1 div.sk-label:hover label.sk-toggleable__label {background-color: #d4ebff;}#sk-container-id-1 div.sk-serial::before {content: \"\";position: absolute;border-left: 1px solid gray;box-sizing: border-box;top: 0;bottom: 0;left: 50%;z-index: 0;}#sk-container-id-1 div.sk-serial {display: flex;flex-direction: column;align-items: center;background-color: white;padding-right: 0.2em;padding-left: 0.2em;position: relative;}#sk-container-id-1 div.sk-item {position: relative;z-index: 1;}#sk-container-id-1 div.sk-parallel {display: flex;align-items: stretch;justify-content: center;background-color: white;position: relative;}#sk-container-id-1 div.sk-item::before, #sk-container-id-1 div.sk-parallel-item::before {content: \"\";position: absolute;border-left: 1px solid gray;box-sizing: border-box;top: 0;bottom: 0;left: 50%;z-index: -1;}#sk-container-id-1 div.sk-parallel-item {display: flex;flex-direction: column;z-index: 1;position: relative;background-color: white;}#sk-container-id-1 div.sk-parallel-item:first-child::after {align-self: flex-end;width: 50%;}#sk-container-id-1 div.sk-parallel-item:last-child::after {align-self: flex-start;width: 50%;}#sk-container-id-1 div.sk-parallel-item:only-child::after {width: 0;}#sk-container-id-1 div.sk-dashed-wrapped {border: 1px dashed gray;margin: 0 0.4em 0.5em 0.4em;box-sizing: border-box;padding-bottom: 0.4em;background-color: white;}#sk-container-id-1 div.sk-label label {font-family: monospace;font-weight: bold;display: inline-block;line-height: 1.2em;}#sk-container-id-1 div.sk-label-container {text-align: center;}#sk-container-id-1 div.sk-container {/* jupyter's `normalize.less` sets `[hidden] { display: none; }` but bootstrap.min.css set `[hidden] { display: none !important; }` so we also need the `!important` here to be able to override the default hidden behavior on the sphinx rendered scikit-learn.org. See: https://github.com/scikit-learn/scikit-learn/issues/21755 */display: inline-block !important;position: relative;}#sk-container-id-1 div.sk-text-repr-fallback {display: none;}</style><div id=\"sk-container-id-1\" class=\"sk-top-container\"><div class=\"sk-text-repr-fallback\"><pre>LinearRegression()</pre><b>In a Jupyter environment, please rerun this cell to show the HTML representation or trust the notebook. <br />On GitHub, the HTML representation is unable to render, please try loading this page with nbviewer.org.</b></div><div class=\"sk-container\" hidden><div class=\"sk-item\"><div class=\"sk-estimator sk-toggleable\"><input class=\"sk-toggleable__control sk-hidden--visually\" id=\"sk-estimator-id-1\" type=\"checkbox\" checked><label for=\"sk-estimator-id-1\" class=\"sk-toggleable__label sk-toggleable__label-arrow\">LinearRegression</label><div class=\"sk-toggleable__content\"><pre>LinearRegression()</pre></div></div></div></div></div>"
      ],
      "text/plain": [
       "LinearRegression()"
      ]
     },
     "execution_count": 38,
     "metadata": {},
     "output_type": "execute_result"
    }
   ],
   "source": [
    "LR.fit(X_train,Y_train)  #object creation"
   ]
  },
  {
   "cell_type": "code",
   "execution_count": 39,
   "id": "119a30d8",
   "metadata": {},
   "outputs": [],
   "source": [
    "y_predict = LR.predict(X_test) #training of linear regression"
   ]
  },
  {
   "cell_type": "code",
   "execution_count": 40,
   "id": "64e0eb82",
   "metadata": {},
   "outputs": [
    {
     "data": {
      "text/plain": [
       "682    4094\n",
       "250    1842\n",
       "336    3614\n",
       "260    4274\n",
       "543    7335\n",
       "       ... \n",
       "71     2417\n",
       "106    3744\n",
       "270    3907\n",
       "435    4911\n",
       "102    2162\n",
       "Name: count, Length: 584, dtype: int64"
      ]
     },
     "execution_count": 40,
     "metadata": {},
     "output_type": "execute_result"
    }
   ],
   "source": [
    "Y_train # Actual output values"
   ]
  },
  {
   "cell_type": "code",
   "execution_count": 41,
   "id": "4b9d323a",
   "metadata": {},
   "outputs": [
    {
     "data": {
      "text/plain": [
       "array([5449.47505245, 2819.69799567, 4375.95178928, 5787.79952029,\n",
       "       6416.76494877, 5564.12586364, 2687.85972534, 2710.90266813,\n",
       "       6737.56393452, 5580.74379625, 1349.59287447, 3249.00305556,\n",
       "       5033.57769497, 4148.39639161, 3488.26345783, 3044.40215094,\n",
       "       3474.95018733, 7459.5696654 , 6301.37707631, 1230.70081672,\n",
       "       6330.63020547, 5917.32782523, 4376.3748109 , 2797.22010688,\n",
       "       2783.61521503, 5616.27721557, 3149.96946281, 6790.92570112,\n",
       "       3115.76631497, 5091.14642358, 2914.22490836, 4942.0658138 ,\n",
       "       4859.36375047, 5676.36658044, 4926.18600456, 3371.58072695,\n",
       "       6318.1826157 , 5321.86498681, 3841.23862163, 2322.13983444,\n",
       "       4697.32159608, 3066.73728402, 5973.56917562, 5084.09174592,\n",
       "       5747.97316003, 2877.62966957, 5153.46106616, 4841.73858986,\n",
       "       7455.71167307, 4132.3412025 , 4672.18816184, 2389.7389984 ,\n",
       "       1161.87643457, 5384.62498983, 5196.68504006, 5500.70070476,\n",
       "       4578.62338385, 3422.1970771 , 6431.35486769, 6343.44432771,\n",
       "       5003.27107167, 6116.78504779, 2371.13105254, 7721.22840859,\n",
       "       5406.48963577, 5905.09994812, 7619.45264315, 5204.1767829 ,\n",
       "       1846.14225609, 6626.96417564, 4355.11875625, 2324.85610145,\n",
       "       4386.22708904, 4991.58015919, 3797.73022534, 3357.9885941 ,\n",
       "       4519.22165257, 5442.4536463 , 2463.75540014, 5405.02208097,\n",
       "       2741.42284962, 3754.15793851, 4094.93750608, 2367.47644892,\n",
       "       4423.70567338, 3031.40661426, 6311.31585425, 3356.71883114,\n",
       "       4239.90136341, 4375.76979589, 2382.99142591, 5692.0005693 ,\n",
       "       5062.0663337 , 3650.22370014, 3622.76791792, 1405.5934477 ,\n",
       "       5381.85101207, 2736.98588703, 2920.52505192, 5711.82273789,\n",
       "       6273.55414359, 4327.79481609, 5818.49224618, 3412.11732954,\n",
       "       3798.75974297, 4832.21938043, 2582.81168319, 2620.35444735,\n",
       "       5745.25894918, 2311.08118298, 5880.84407395, 6039.22926771,\n",
       "       4240.19479568, 6265.30039429, 5756.36937273, 4581.46600252,\n",
       "       2706.192578  , 3085.49020325, 6626.34235899, 2523.61945914,\n",
       "       5735.90870698, 2906.1424297 , 4915.16871476, 2835.93770612,\n",
       "       4379.06934609, 5093.64557162, 5177.85347415, 2804.94696571,\n",
       "       3308.20405911, 6527.22676912, 3511.63082085, 4377.94467433,\n",
       "       4427.58452885, 4831.79726624, 6481.84955399, 2778.74206283,\n",
       "       3882.41241587, 7306.98999252, 2713.88093969, 5468.59856683,\n",
       "       4640.98443083, 3709.24360349, 2232.00202767, 5135.0607922 ,\n",
       "       5832.8951644 , 5402.84075405, 4848.73771618])"
      ]
     },
     "execution_count": 41,
     "metadata": {},
     "output_type": "execute_result"
    }
   ],
   "source": [
    "y_predict # Values predicted by model"
   ]
  },
  {
   "cell_type": "code",
   "execution_count": 42,
   "id": "d2ea6947",
   "metadata": {},
   "outputs": [],
   "source": [
    "from sklearn.metrics import r2_score,mean_squared_error,mean_absolute_error "
   ]
  },
  {
   "cell_type": "code",
   "execution_count": 43,
   "id": "4c12f96d",
   "metadata": {},
   "outputs": [
    {
     "data": {
      "text/plain": [
       "0.7373345286202116"
      ]
     },
     "execution_count": 43,
     "metadata": {},
     "output_type": "execute_result"
    }
   ],
   "source": [
    "r2score=r2_score(Y_test,y_predict)\n",
    "r2score"
   ]
  },
  {
   "cell_type": "code",
   "execution_count": 44,
   "id": "b34ed169",
   "metadata": {},
   "outputs": [
    {
     "data": {
      "text/plain": [
       "(147, 28)"
      ]
     },
     "execution_count": 44,
     "metadata": {},
     "output_type": "execute_result"
    }
   ],
   "source": [
    "X_test.shape"
   ]
  },
  {
   "cell_type": "code",
   "execution_count": 45,
   "id": "a2bc713c",
   "metadata": {},
   "outputs": [
    {
     "data": {
      "text/plain": [
       "0.7179411764705882"
      ]
     },
     "execution_count": 45,
     "metadata": {},
     "output_type": "execute_result"
    }
   ],
   "source": [
    "## calculation of adjusted r2 score\n",
    "adjusted_r2_LR = 1-(1-0.72)*(147-10)/(147-10-1) \n",
    "adjusted_r2_LR"
   ]
  },
  {
   "cell_type": "raw",
   "id": "87a30293",
   "metadata": {},
   "source": [
    "NOTE : The accuracy score achieved usng Linear Regression is : 71 %"
   ]
  },
  {
   "cell_type": "markdown",
   "id": "b4817510",
   "metadata": {},
   "source": [
    "## II. Decision Tree Regressor :"
   ]
  },
  {
   "cell_type": "code",
   "execution_count": 46,
   "id": "4d32e5b0",
   "metadata": {},
   "outputs": [],
   "source": [
    "from sklearn.tree import DecisionTreeRegressor "
   ]
  },
  {
   "cell_type": "code",
   "execution_count": 47,
   "id": "632c3616",
   "metadata": {},
   "outputs": [],
   "source": [
    "model = DecisionTreeRegressor(random_state=44)  "
   ]
  },
  {
   "cell_type": "code",
   "execution_count": 48,
   "id": "7e82ed11",
   "metadata": {},
   "outputs": [
    {
     "data": {
      "text/html": [
       "<style>#sk-container-id-2 {color: black;background-color: white;}#sk-container-id-2 pre{padding: 0;}#sk-container-id-2 div.sk-toggleable {background-color: white;}#sk-container-id-2 label.sk-toggleable__label {cursor: pointer;display: block;width: 100%;margin-bottom: 0;padding: 0.3em;box-sizing: border-box;text-align: center;}#sk-container-id-2 label.sk-toggleable__label-arrow:before {content: \"▸\";float: left;margin-right: 0.25em;color: #696969;}#sk-container-id-2 label.sk-toggleable__label-arrow:hover:before {color: black;}#sk-container-id-2 div.sk-estimator:hover label.sk-toggleable__label-arrow:before {color: black;}#sk-container-id-2 div.sk-toggleable__content {max-height: 0;max-width: 0;overflow: hidden;text-align: left;background-color: #f0f8ff;}#sk-container-id-2 div.sk-toggleable__content pre {margin: 0.2em;color: black;border-radius: 0.25em;background-color: #f0f8ff;}#sk-container-id-2 input.sk-toggleable__control:checked~div.sk-toggleable__content {max-height: 200px;max-width: 100%;overflow: auto;}#sk-container-id-2 input.sk-toggleable__control:checked~label.sk-toggleable__label-arrow:before {content: \"▾\";}#sk-container-id-2 div.sk-estimator input.sk-toggleable__control:checked~label.sk-toggleable__label {background-color: #d4ebff;}#sk-container-id-2 div.sk-label input.sk-toggleable__control:checked~label.sk-toggleable__label {background-color: #d4ebff;}#sk-container-id-2 input.sk-hidden--visually {border: 0;clip: rect(1px 1px 1px 1px);clip: rect(1px, 1px, 1px, 1px);height: 1px;margin: -1px;overflow: hidden;padding: 0;position: absolute;width: 1px;}#sk-container-id-2 div.sk-estimator {font-family: monospace;background-color: #f0f8ff;border: 1px dotted black;border-radius: 0.25em;box-sizing: border-box;margin-bottom: 0.5em;}#sk-container-id-2 div.sk-estimator:hover {background-color: #d4ebff;}#sk-container-id-2 div.sk-parallel-item::after {content: \"\";width: 100%;border-bottom: 1px solid gray;flex-grow: 1;}#sk-container-id-2 div.sk-label:hover label.sk-toggleable__label {background-color: #d4ebff;}#sk-container-id-2 div.sk-serial::before {content: \"\";position: absolute;border-left: 1px solid gray;box-sizing: border-box;top: 0;bottom: 0;left: 50%;z-index: 0;}#sk-container-id-2 div.sk-serial {display: flex;flex-direction: column;align-items: center;background-color: white;padding-right: 0.2em;padding-left: 0.2em;position: relative;}#sk-container-id-2 div.sk-item {position: relative;z-index: 1;}#sk-container-id-2 div.sk-parallel {display: flex;align-items: stretch;justify-content: center;background-color: white;position: relative;}#sk-container-id-2 div.sk-item::before, #sk-container-id-2 div.sk-parallel-item::before {content: \"\";position: absolute;border-left: 1px solid gray;box-sizing: border-box;top: 0;bottom: 0;left: 50%;z-index: -1;}#sk-container-id-2 div.sk-parallel-item {display: flex;flex-direction: column;z-index: 1;position: relative;background-color: white;}#sk-container-id-2 div.sk-parallel-item:first-child::after {align-self: flex-end;width: 50%;}#sk-container-id-2 div.sk-parallel-item:last-child::after {align-self: flex-start;width: 50%;}#sk-container-id-2 div.sk-parallel-item:only-child::after {width: 0;}#sk-container-id-2 div.sk-dashed-wrapped {border: 1px dashed gray;margin: 0 0.4em 0.5em 0.4em;box-sizing: border-box;padding-bottom: 0.4em;background-color: white;}#sk-container-id-2 div.sk-label label {font-family: monospace;font-weight: bold;display: inline-block;line-height: 1.2em;}#sk-container-id-2 div.sk-label-container {text-align: center;}#sk-container-id-2 div.sk-container {/* jupyter's `normalize.less` sets `[hidden] { display: none; }` but bootstrap.min.css set `[hidden] { display: none !important; }` so we also need the `!important` here to be able to override the default hidden behavior on the sphinx rendered scikit-learn.org. See: https://github.com/scikit-learn/scikit-learn/issues/21755 */display: inline-block !important;position: relative;}#sk-container-id-2 div.sk-text-repr-fallback {display: none;}</style><div id=\"sk-container-id-2\" class=\"sk-top-container\"><div class=\"sk-text-repr-fallback\"><pre>DecisionTreeRegressor(random_state=44)</pre><b>In a Jupyter environment, please rerun this cell to show the HTML representation or trust the notebook. <br />On GitHub, the HTML representation is unable to render, please try loading this page with nbviewer.org.</b></div><div class=\"sk-container\" hidden><div class=\"sk-item\"><div class=\"sk-estimator sk-toggleable\"><input class=\"sk-toggleable__control sk-hidden--visually\" id=\"sk-estimator-id-2\" type=\"checkbox\" checked><label for=\"sk-estimator-id-2\" class=\"sk-toggleable__label sk-toggleable__label-arrow\">DecisionTreeRegressor</label><div class=\"sk-toggleable__content\"><pre>DecisionTreeRegressor(random_state=44)</pre></div></div></div></div></div>"
      ],
      "text/plain": [
       "DecisionTreeRegressor(random_state=44)"
      ]
     },
     "execution_count": 48,
     "metadata": {},
     "output_type": "execute_result"
    }
   ],
   "source": [
    "model.fit(X_train, Y_train)"
   ]
  },
  {
   "cell_type": "code",
   "execution_count": 49,
   "id": "a08a9db8",
   "metadata": {},
   "outputs": [],
   "source": [
    "predictions = model.predict(X_test)"
   ]
  },
  {
   "cell_type": "code",
   "execution_count": 50,
   "id": "d7815b15",
   "metadata": {},
   "outputs": [
    {
     "data": {
      "text/plain": [
       "0.7154755724791926"
      ]
     },
     "execution_count": 50,
     "metadata": {},
     "output_type": "execute_result"
    }
   ],
   "source": [
    "r2score=r2_score(Y_test,predictions)\n",
    "r2score"
   ]
  },
  {
   "cell_type": "code",
   "execution_count": 51,
   "id": "84a059f4",
   "metadata": {},
   "outputs": [
    {
     "data": {
      "text/plain": [
       "0.7380882352941176"
      ]
     },
     "execution_count": 51,
     "metadata": {},
     "output_type": "execute_result"
    }
   ],
   "source": [
    "## calculation of adjusted r2 score\n",
    "adjusted_r2_DT = 1-(1-0.74)*(147-10)/(147-10-1) \n",
    "adjusted_r2_DT"
   ]
  },
  {
   "cell_type": "raw",
   "id": "a342c400",
   "metadata": {},
   "source": [
    "NOTE : The accuracy score achieved usng Decision Tree is : 73 %"
   ]
  },
  {
   "cell_type": "markdown",
   "id": "1863e1d7",
   "metadata": {},
   "source": [
    "## III. Random Forest Regressor :"
   ]
  },
  {
   "cell_type": "code",
   "execution_count": 52,
   "id": "925d6baf",
   "metadata": {},
   "outputs": [],
   "source": [
    "from sklearn.ensemble import RandomForestRegressor"
   ]
  },
  {
   "cell_type": "code",
   "execution_count": 53,
   "id": "1fd52b77",
   "metadata": {},
   "outputs": [],
   "source": [
    "regressor = RandomForestRegressor(n_estimators = 10, random_state = 0) "
   ]
  },
  {
   "cell_type": "code",
   "execution_count": 54,
   "id": "802d0bcc",
   "metadata": {},
   "outputs": [
    {
     "data": {
      "text/html": [
       "<style>#sk-container-id-3 {color: black;background-color: white;}#sk-container-id-3 pre{padding: 0;}#sk-container-id-3 div.sk-toggleable {background-color: white;}#sk-container-id-3 label.sk-toggleable__label {cursor: pointer;display: block;width: 100%;margin-bottom: 0;padding: 0.3em;box-sizing: border-box;text-align: center;}#sk-container-id-3 label.sk-toggleable__label-arrow:before {content: \"▸\";float: left;margin-right: 0.25em;color: #696969;}#sk-container-id-3 label.sk-toggleable__label-arrow:hover:before {color: black;}#sk-container-id-3 div.sk-estimator:hover label.sk-toggleable__label-arrow:before {color: black;}#sk-container-id-3 div.sk-toggleable__content {max-height: 0;max-width: 0;overflow: hidden;text-align: left;background-color: #f0f8ff;}#sk-container-id-3 div.sk-toggleable__content pre {margin: 0.2em;color: black;border-radius: 0.25em;background-color: #f0f8ff;}#sk-container-id-3 input.sk-toggleable__control:checked~div.sk-toggleable__content {max-height: 200px;max-width: 100%;overflow: auto;}#sk-container-id-3 input.sk-toggleable__control:checked~label.sk-toggleable__label-arrow:before {content: \"▾\";}#sk-container-id-3 div.sk-estimator input.sk-toggleable__control:checked~label.sk-toggleable__label {background-color: #d4ebff;}#sk-container-id-3 div.sk-label input.sk-toggleable__control:checked~label.sk-toggleable__label {background-color: #d4ebff;}#sk-container-id-3 input.sk-hidden--visually {border: 0;clip: rect(1px 1px 1px 1px);clip: rect(1px, 1px, 1px, 1px);height: 1px;margin: -1px;overflow: hidden;padding: 0;position: absolute;width: 1px;}#sk-container-id-3 div.sk-estimator {font-family: monospace;background-color: #f0f8ff;border: 1px dotted black;border-radius: 0.25em;box-sizing: border-box;margin-bottom: 0.5em;}#sk-container-id-3 div.sk-estimator:hover {background-color: #d4ebff;}#sk-container-id-3 div.sk-parallel-item::after {content: \"\";width: 100%;border-bottom: 1px solid gray;flex-grow: 1;}#sk-container-id-3 div.sk-label:hover label.sk-toggleable__label {background-color: #d4ebff;}#sk-container-id-3 div.sk-serial::before {content: \"\";position: absolute;border-left: 1px solid gray;box-sizing: border-box;top: 0;bottom: 0;left: 50%;z-index: 0;}#sk-container-id-3 div.sk-serial {display: flex;flex-direction: column;align-items: center;background-color: white;padding-right: 0.2em;padding-left: 0.2em;position: relative;}#sk-container-id-3 div.sk-item {position: relative;z-index: 1;}#sk-container-id-3 div.sk-parallel {display: flex;align-items: stretch;justify-content: center;background-color: white;position: relative;}#sk-container-id-3 div.sk-item::before, #sk-container-id-3 div.sk-parallel-item::before {content: \"\";position: absolute;border-left: 1px solid gray;box-sizing: border-box;top: 0;bottom: 0;left: 50%;z-index: -1;}#sk-container-id-3 div.sk-parallel-item {display: flex;flex-direction: column;z-index: 1;position: relative;background-color: white;}#sk-container-id-3 div.sk-parallel-item:first-child::after {align-self: flex-end;width: 50%;}#sk-container-id-3 div.sk-parallel-item:last-child::after {align-self: flex-start;width: 50%;}#sk-container-id-3 div.sk-parallel-item:only-child::after {width: 0;}#sk-container-id-3 div.sk-dashed-wrapped {border: 1px dashed gray;margin: 0 0.4em 0.5em 0.4em;box-sizing: border-box;padding-bottom: 0.4em;background-color: white;}#sk-container-id-3 div.sk-label label {font-family: monospace;font-weight: bold;display: inline-block;line-height: 1.2em;}#sk-container-id-3 div.sk-label-container {text-align: center;}#sk-container-id-3 div.sk-container {/* jupyter's `normalize.less` sets `[hidden] { display: none; }` but bootstrap.min.css set `[hidden] { display: none !important; }` so we also need the `!important` here to be able to override the default hidden behavior on the sphinx rendered scikit-learn.org. See: https://github.com/scikit-learn/scikit-learn/issues/21755 */display: inline-block !important;position: relative;}#sk-container-id-3 div.sk-text-repr-fallback {display: none;}</style><div id=\"sk-container-id-3\" class=\"sk-top-container\"><div class=\"sk-text-repr-fallback\"><pre>RandomForestRegressor(n_estimators=10, random_state=0)</pre><b>In a Jupyter environment, please rerun this cell to show the HTML representation or trust the notebook. <br />On GitHub, the HTML representation is unable to render, please try loading this page with nbviewer.org.</b></div><div class=\"sk-container\" hidden><div class=\"sk-item\"><div class=\"sk-estimator sk-toggleable\"><input class=\"sk-toggleable__control sk-hidden--visually\" id=\"sk-estimator-id-3\" type=\"checkbox\" checked><label for=\"sk-estimator-id-3\" class=\"sk-toggleable__label sk-toggleable__label-arrow\">RandomForestRegressor</label><div class=\"sk-toggleable__content\"><pre>RandomForestRegressor(n_estimators=10, random_state=0)</pre></div></div></div></div></div>"
      ],
      "text/plain": [
       "RandomForestRegressor(n_estimators=10, random_state=0)"
      ]
     },
     "execution_count": 54,
     "metadata": {},
     "output_type": "execute_result"
    }
   ],
   "source": [
    "regressor.fit(X_train, Y_train)"
   ]
  },
  {
   "cell_type": "code",
   "execution_count": 55,
   "id": "efa65f08",
   "metadata": {},
   "outputs": [],
   "source": [
    "predictions = model.predict(X_test)"
   ]
  },
  {
   "cell_type": "code",
   "execution_count": 56,
   "id": "507ab23f",
   "metadata": {},
   "outputs": [],
   "source": [
    "y_predict=regressor.predict(X_test)"
   ]
  },
  {
   "cell_type": "code",
   "execution_count": 57,
   "id": "ade9a210",
   "metadata": {},
   "outputs": [
    {
     "data": {
      "text/plain": [
       "0.8124032930865116"
      ]
     },
     "execution_count": 57,
     "metadata": {},
     "output_type": "execute_result"
    }
   ],
   "source": [
    "r2score=r2_score(Y_test,y_predict)\n",
    "r2score"
   ]
  },
  {
   "cell_type": "code",
   "execution_count": 58,
   "id": "04e34f33",
   "metadata": {},
   "outputs": [
    {
     "data": {
      "text/plain": [
       "0.7985294117647059"
      ]
     },
     "execution_count": 58,
     "metadata": {},
     "output_type": "execute_result"
    }
   ],
   "source": [
    "## calculation of adjusted r2 score\n",
    "adjusted_r2_RF = 1-(1-0.80)*(147-10)/(147-10-1) \n",
    "adjusted_r2_RF"
   ]
  },
  {
   "cell_type": "raw",
   "id": "c4bd0563",
   "metadata": {},
   "source": [
    "NOTE : The accuracy score achieved usng Random Forest is : 79 %"
   ]
  },
  {
   "cell_type": "markdown",
   "id": "56a7a9fa",
   "metadata": {},
   "source": [
    "## IV. Gradient Boosting Regressor :"
   ]
  },
  {
   "cell_type": "code",
   "execution_count": 59,
   "id": "537d0385",
   "metadata": {},
   "outputs": [],
   "source": [
    "from sklearn.ensemble import GradientBoostingRegressor"
   ]
  },
  {
   "cell_type": "code",
   "execution_count": 60,
   "id": "fc9e1057",
   "metadata": {},
   "outputs": [],
   "source": [
    "gbr=GradientBoostingRegressor(learning_rate=0.01, loss='squared_error', n_estimators=100)\n",
    "gbr.fit(X_train,Y_train)\n",
    "Y_predict=gbr.predict(X_test)"
   ]
  },
  {
   "cell_type": "code",
   "execution_count": 61,
   "id": "91cc4b3b",
   "metadata": {},
   "outputs": [
    {
     "data": {
      "text/plain": [
       "array([4496.48087554, 2812.0659476 , 4517.50190656, 5703.28052611,\n",
       "       5292.1400599 , 5806.11847469, 2711.11140147, 3288.54182936,\n",
       "       5806.11847469, 5263.11198844, 3021.80075643, 3615.23048944,\n",
       "       4940.99863563, 3803.61288511, 4190.84515298, 4556.94463617,\n",
       "       4190.84515298, 5806.11847469, 5806.11847469, 2764.93528515,\n",
       "       5806.11847469, 5263.11198844, 4552.24645063, 3452.85099456,\n",
       "       3225.0728109 , 5572.38526099, 3496.17989788, 5806.11847469,\n",
       "       3126.16233448, 4498.27814022, 3518.40917076, 4551.92398668,\n",
       "       4552.24645063, 5806.11847469, 5052.82514283, 5027.98402193,\n",
       "       5806.11847469, 5027.98402193, 3430.032982  , 2711.11140147,\n",
       "       4552.24645063, 3333.800403  , 5806.11847469, 5027.98402193,\n",
       "       5806.11847469, 2858.44180853, 5263.11198844, 5263.11198844,\n",
       "       5942.36128332, 4817.69717632, 5027.98402193, 3261.54369949,\n",
       "       2868.51851087, 5027.98402193, 4552.24645063, 5263.11198844,\n",
       "       3758.96947088, 4817.69717632, 5421.14376515, 5806.11847469,\n",
       "       5806.11847469, 5806.11847469, 3288.54182936, 5986.3509134 ,\n",
       "       5806.11847469, 5263.11198844, 5986.3509134 , 5027.98402193,\n",
       "       3472.30185335, 5400.17015685, 5027.98402193, 3388.91526234,\n",
       "       3758.96947088, 5263.11198844, 3615.23048944, 3615.23048944,\n",
       "       4509.30997351, 4636.71763323, 2880.33220588, 4552.24645063,\n",
       "       3452.85099456, 3333.800403  , 4498.27814022, 2858.44180853,\n",
       "       3922.66347667, 4556.94463617, 5027.98402193, 3440.92324307,\n",
       "       3820.19066054, 3913.97051232, 2711.11140147, 5572.38526099,\n",
       "       4581.27452209, 4190.84515298, 4534.06400048, 3021.80075643,\n",
       "       4552.24645063, 3062.69331602, 4755.13807137, 5806.11847469,\n",
       "       5806.11847469, 5027.98402193, 5806.11847469, 4556.94463617,\n",
       "       4190.84515298, 4498.27814022, 3225.0728109 , 3254.31944589,\n",
       "       5806.11847469, 2711.11140147, 5306.33435583, 5595.83162909,\n",
       "       4395.80532409, 5806.11847469, 5806.11847469, 5027.98402193,\n",
       "       3225.0728109 , 3126.16233448, 5546.3828835 , 3024.41859642,\n",
       "       5595.83162909, 3432.2808108 , 5263.11198844, 3062.69331602,\n",
       "       3820.19066054, 4581.27452209, 5263.11198844, 3516.77617467,\n",
       "       3615.23048944, 5958.22666444, 4388.14700858, 4395.80532409,\n",
       "       4498.27814022, 4498.27814022, 5806.11847469, 4190.84515298,\n",
       "       4190.84515298, 6102.01448075, 3615.23048944, 4940.99863563,\n",
       "       4552.24645063, 3496.17989788, 3472.30185335, 4552.24645063,\n",
       "       5335.07908894, 5263.11198844, 5263.11198844])"
      ]
     },
     "execution_count": 61,
     "metadata": {},
     "output_type": "execute_result"
    }
   ],
   "source": [
    "Y_predict = gbr.predict(X_test)\n",
    "Y_predict"
   ]
  },
  {
   "cell_type": "code",
   "execution_count": 62,
   "id": "3824cac2",
   "metadata": {},
   "outputs": [
    {
     "data": {
      "text/plain": [
       "0.5961057275560232"
      ]
     },
     "execution_count": 62,
     "metadata": {},
     "output_type": "execute_result"
    }
   ],
   "source": [
    "rfr_r2score = r2_score(Y_test,Y_predict)\n",
    "rfr_r2score"
   ]
  },
  {
   "cell_type": "code",
   "execution_count": 63,
   "id": "d2e79768",
   "metadata": {},
   "outputs": [
    {
     "data": {
      "text/plain": [
       "0.586985294117647"
      ]
     },
     "execution_count": 63,
     "metadata": {},
     "output_type": "execute_result"
    }
   ],
   "source": [
    "adjusted_r2_GB = 1-(1-0.59)*(147-10)/(147-10-1) \n",
    "adjusted_r2_GB"
   ]
  },
  {
   "cell_type": "raw",
   "id": "9c51d058",
   "metadata": {},
   "source": [
    "NOTE : The accuracy score achieved usng GBOOST is : 58 %"
   ]
  },
  {
   "cell_type": "markdown",
   "id": "f20074e8",
   "metadata": {},
   "source": [
    "# 6. Output Final Score"
   ]
  },
  {
   "cell_type": "code",
   "execution_count": 64,
   "id": "efd67f9d",
   "metadata": {},
   "outputs": [],
   "source": [
    "final_df1 = pd.DataFrame({'MODELS':['LG','DT','RF','GB'],\n",
    "                        'ACCURACY':[adjusted_r2_LR,adjusted_r2_DT,adjusted_r2_RF,adjusted_r2_GB]})"
   ]
  },
  {
   "cell_type": "code",
   "execution_count": 65,
   "id": "0bd299c4",
   "metadata": {},
   "outputs": [
    {
     "data": {
      "text/html": [
       "<div>\n",
       "<style scoped>\n",
       "    .dataframe tbody tr th:only-of-type {\n",
       "        vertical-align: middle;\n",
       "    }\n",
       "\n",
       "    .dataframe tbody tr th {\n",
       "        vertical-align: top;\n",
       "    }\n",
       "\n",
       "    .dataframe thead th {\n",
       "        text-align: right;\n",
       "    }\n",
       "</style>\n",
       "<table border=\"1\" class=\"dataframe\">\n",
       "  <thead>\n",
       "    <tr style=\"text-align: right;\">\n",
       "      <th></th>\n",
       "      <th>MODELS</th>\n",
       "      <th>ACCURACY</th>\n",
       "    </tr>\n",
       "  </thead>\n",
       "  <tbody>\n",
       "    <tr>\n",
       "      <th>0</th>\n",
       "      <td>LG</td>\n",
       "      <td>0.717941</td>\n",
       "    </tr>\n",
       "    <tr>\n",
       "      <th>1</th>\n",
       "      <td>DT</td>\n",
       "      <td>0.738088</td>\n",
       "    </tr>\n",
       "    <tr>\n",
       "      <th>2</th>\n",
       "      <td>RF</td>\n",
       "      <td>0.798529</td>\n",
       "    </tr>\n",
       "    <tr>\n",
       "      <th>3</th>\n",
       "      <td>GB</td>\n",
       "      <td>0.586985</td>\n",
       "    </tr>\n",
       "  </tbody>\n",
       "</table>\n",
       "</div>"
      ],
      "text/plain": [
       "  MODELS  ACCURACY\n",
       "0     LG  0.717941\n",
       "1     DT  0.738088\n",
       "2     RF  0.798529\n",
       "3     GB  0.586985"
      ]
     },
     "execution_count": 65,
     "metadata": {},
     "output_type": "execute_result"
    }
   ],
   "source": [
    "final_df1"
   ]
  },
  {
   "cell_type": "code",
   "execution_count": 66,
   "id": "13645c51",
   "metadata": {},
   "outputs": [
    {
     "data": {
      "text/plain": [
       "<Axes: xlabel='MODELS', ylabel='ACCURACY'>"
      ]
     },
     "execution_count": 66,
     "metadata": {},
     "output_type": "execute_result"
    },
    {
     "data": {
      "image/png": "[encoded data removed]",
      "text/plain": [
       "<Figure size 640x480 with 1 Axes>"
      ]
     },
     "metadata": {},
     "output_type": "display_data"
    }
   ],
   "source": [
    "sns.barplot(x=final_df1['MODELS'],y=final_df1['ACCURACY'])"
   ]
  },
  {
   "cell_type": "raw",
   "id": "046732c3",
   "metadata": {},
   "source": [
    "NOTE : Therefore, random Forest has good result as compare to other algorithms"
   ]
  },
  {
   "cell_type": "markdown",
   "id": "4b7e70f3",
   "metadata": {},
   "source": [
    "# 7. Model Comparison Report"
   ]
  },
  {
   "cell_type": "markdown",
   "id": "d3a90213",
   "metadata": {},
   "source": [
    "# Conclusion :\n",
    "    1. LINEAR REGRESSION\n",
    "       > r2score = 0.73\n",
    "       > adjusted_r2 = 0.71\n",
    "\n",
    "    2. DECISION TREE REGRESSOR\n",
    "       > r2score = 0.71\n",
    "       > adjusted_r2 = 0.73\n",
    "\n",
    "    3. RANDOM FOREST REGRESSOR\n",
    "       > r2score = 0.81\n",
    "       > adjusted_r2 = 0.79\n",
    "\n",
    "    4. Gradient Boosting Regressor\n",
    "       > r2score = 0.59     \n",
    "       > adjusted_r2 = 0.58"
   ]
  }
 ],
 "metadata": {
  "kernelspec": {
   "display_name": "Python 3 (ipykernel)",
   "language": "python",
   "name": "python3"
  },
  "language_info": {
   "codemirror_mode": {
    "name": "ipython",
    "version": 3
   },
   "file_extension": ".py",
   "mimetype": "text/x-python",
   "name": "python",
   "nbconvert_exporter": "python",
   "pygments_lexer": "ipython3",
   "version": "3.10.9"
  }
 },
 "nbformat": 4,
 "nbformat_minor": 5
}
